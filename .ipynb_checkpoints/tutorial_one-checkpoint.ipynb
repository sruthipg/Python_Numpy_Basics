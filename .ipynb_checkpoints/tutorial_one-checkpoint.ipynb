{
 "cells": [
  {
   "cell_type": "code",
   "execution_count": 1,
   "metadata": {},
   "outputs": [],
   "source": [
    "import numpy as np"
   ]
  },
  {
   "cell_type": "code",
   "execution_count": 2,
   "metadata": {},
   "outputs": [
    {
     "name": "stdout",
     "output_type": "stream",
     "text": [
      "[1, 4, 6, 1, 4, 6]\n"
     ]
    }
   ],
   "source": [
    "# straight forward elementwise operation on list is not possible\n",
    "a=[1,4,6]\n",
    "print(a*2)"
   ]
  },
  {
   "cell_type": "markdown",
   "metadata": {},
   "source": [
    "Operations on array"
   ]
  },
  {
   "cell_type": "code",
   "execution_count": 3,
   "metadata": {},
   "outputs": [
    {
     "name": "stdout",
     "output_type": "stream",
     "text": [
      "[1, 4, 6]\n",
      "int64\n",
      "Mult with Const [ 2  8 12]\n",
      "Mul [ 1 16 36]\n",
      "Add [ 2  8 12]\n",
      "Sub [0 0 0]\n",
      "Div [1. 1. 1.]\n",
      "Mod [0 0 0]\n"
     ]
    }
   ],
   "source": [
    "print(a)\n",
    "s=np.array(a)\n",
    "print(s.dtype)\n",
    "print(\"Mult with Const\",s*2)\n",
    "print(\"Mul\",s*s)\n",
    "print(\"Add\",s+s)\n",
    "print(\"Sub\",s-s)\n",
    "print(\"Div\",s/s)\n",
    "print(\"Mod\",s%s)"
   ]
  },
  {
   "cell_type": "markdown",
   "metadata": {},
   "source": [
    "Creating Numpy arrays"
   ]
  },
  {
   "cell_type": "code",
   "execution_count": 4,
   "metadata": {},
   "outputs": [
    {
     "name": "stdout",
     "output_type": "stream",
     "text": [
      "1D [1 2 3]\n",
      "2D [[1 2 3]\n",
      " [6 8 7]]\n",
      "2D Tuple [[1 2 3]\n",
      " [6 8 7]]\n",
      "Shape (2, 3)\n",
      "Zeros [0 0]\n",
      "Ones [[1 1 1]\n",
      " [1 1 1]]\n",
      "Identity [[1. 0. 0.]\n",
      " [0. 1. 0.]\n",
      " [0. 0. 1.]]\n",
      "LineSpace [ 2  5  8 12]\n",
      "Arange [ 5  7  9 11 13 15 17 19]\n",
      "Full [[8 8 8 8 8]\n",
      " [8 8 8 8 8]]\n",
      "Random [[0.18368368 0.25264827 0.72559674]\n",
      " [0.6969294  0.04174433 0.02676295]]\n",
      "Random Mul [[71.98309425 21.21875917  0.39712361]\n",
      " [48.14637081 68.63550062 60.18478525]]\n",
      "Random Int [[4 0 1]\n",
      " [4 5 2]]\n"
     ]
    }
   ],
   "source": [
    "print(\"1D\",np.array([1,2,3]))\n",
    "sd=np.array([[1,2,3],[6,8,7]])\n",
    "td=np.array([(1,2,3),(6,8,7)])\n",
    "print(\"2D\",sd)\n",
    "print(\"2D Tuple\",td)\n",
    "print(\"Shape\",sd.shape)\n",
    "# 1D with zeros\n",
    "print(\"Zeros\",np.zeros(2,dtype='int')) \n",
    "# 2 X 3 D\n",
    "print(\"Ones\",np.ones((2,3),dtype='int'))\n",
    "print(\"Identity\",np.eye(3))\n",
    "# (start,stop, numdigit to be printed) prints the no. of items specified between start and stop in equal distance\n",
    "print(\"LineSpace\",np.linspace(2,12,4,dtype='int'))\n",
    "# print digits between start and stop with step value(start,stop,step)\n",
    "print(\"Arange\",np.arange(5,20,2))\n",
    "# it print matrix specifed shape with the value specified((row,col),num need to fill)\n",
    "print(\"Full\",np.full((2,5),8))\n",
    "# Print matrix with random numbers in specified shape\n",
    "print(\"Random\",np.random.rand(2,3))\n",
    "print(\"Random Mul\",np.random.rand(2,3)*100)\n",
    "print(\"Random Int\",np.random.randint(6,size=(2,3)))"
   ]
  },
  {
   "cell_type": "markdown",
   "metadata": {},
   "source": [
    "Numpy Properties"
   ]
  },
  {
   "cell_type": "code",
   "execution_count": 5,
   "metadata": {},
   "outputs": [
    {
     "name": "stdout",
     "output_type": "stream",
     "text": [
      "Size 8\n",
      "Shape (2, 4)\n",
      "Dtype int64\n",
      "As type [[1. 2. 3. 4.]\n",
      " [7. 8. 9. 4.]]\n",
      "To List [[1, 2, 3, 4], [7, 8, 9, 4]]\n",
      " eye(N, M=None, k=0, dtype=<class 'float'>, order='C')\n",
      "\n",
      "Return a 2-D array with ones on the diagonal and zeros elsewhere.\n",
      "\n",
      "Parameters\n",
      "----------\n",
      "N : int\n",
      "  Number of rows in the output.\n",
      "M : int, optional\n",
      "  Number of columns in the output. If None, defaults to `N`.\n",
      "k : int, optional\n",
      "  Index of the diagonal: 0 (the default) refers to the main diagonal,\n",
      "  a positive value refers to an upper diagonal, and a negative value\n",
      "  to a lower diagonal.\n",
      "dtype : data-type, optional\n",
      "  Data-type of the returned array.\n",
      "order : {'C', 'F'}, optional\n",
      "    Whether the output should be stored in row-major (C-style) or\n",
      "    column-major (Fortran-style) order in memory.\n",
      "\n",
      "    .. versionadded:: 1.14.0\n",
      "\n",
      "Returns\n",
      "-------\n",
      "I : ndarray of shape (N,M)\n",
      "  An array where all elements are equal to zero, except for the `k`-th\n",
      "  diagonal, whose values are equal to one.\n",
      "\n",
      "See Also\n",
      "--------\n",
      "identity : (almost) equivalent function\n",
      "diag : diagonal 2-D array from a 1-D array specified by the user.\n",
      "\n",
      "Examples\n",
      "--------\n",
      ">>> np.eye(2, dtype=int)\n",
      "array([[1, 0],\n",
      "       [0, 1]])\n",
      ">>> np.eye(3, k=1)\n",
      "array([[0.,  1.,  0.],\n",
      "       [0.,  0.,  1.],\n",
      "       [0.,  0.,  0.]])\n",
      "Info None\n"
     ]
    }
   ],
   "source": [
    "s=np.array([[1,2,3,4],[7,8,9,4]])\n",
    "print(\"Size\",s.size)\n",
    "print(\"Shape\",s.shape)\n",
    "print(\"Dtype\",s.dtype)\n",
    "print(\"As type\",s.astype(float))\n",
    "print(\"To List\",s.tolist())\n",
    "print(\"Info\",np.info(np.eye))"
   ]
  },
  {
   "cell_type": "markdown",
   "metadata": {},
   "source": [
    "Indexing/Slicing/subsetting"
   ]
  },
  {
   "cell_type": "code",
   "execution_count": 6,
   "metadata": {},
   "outputs": [
    {
     "name": "stdout",
     "output_type": "stream",
     "text": [
      "Reshape [[ 0.  1.  2.  3.]\n",
      " [ 4.  5.  6.  7.]\n",
      " [ 8.  9. 10. 11.]\n",
      " [12. 13. 14. 15.]]\n",
      "First 2 rows [[0. 1. 2. 3.]\n",
      " [4. 5. 6. 7.]]\n",
      "First 2rows & 2nd item from cols [2. 6.]\n",
      "First 2 rows & 2cols [[0. 1.]\n",
      " [4. 5.]]\n",
      "Same as (0:3) [[ 0.  1.  2.  3.]\n",
      " [ 4.  5.  6.  7.]\n",
      " [ 8.  9. 10. 11.]]\n",
      "All rows 1st col [ 1.  5.  9. 13.]\n",
      "Condition is true [[False False False False]\n",
      " [False False False False]\n",
      " [False  True  True  True]\n",
      " [ True  True  True  True]]\n",
      "Row wise [[ 0.  1.  2.  3.]\n",
      " [ 4.  5.  6.  7.]\n",
      " [ 8.  9. 10. 11.]]\n",
      "Col wise [[ 0.  1.  2.]\n",
      " [ 4.  5.  6.]\n",
      " [ 8.  9. 10.]\n",
      " [12. 13. 14.]]\n"
     ]
    }
   ],
   "source": [
    "# Reshape(row,col)\n",
    "t=np.arange(16.0).reshape(4,4)\n",
    "print(\"Reshape\",t)\n",
    "print(\"First 2 rows\",t[0:2])\n",
    "print(\"First 2rows & 2nd item from cols\",t[0:2,2])\n",
    "print(\"First 2 rows & 2cols\",t[0:2,0:2])\n",
    "print(\"Same as (0:3)\",t[:3])\n",
    "print(\"All rows 1st col\",t[:,1])\n",
    "print(\"Condition is true\",t>8)\n",
    "print(\"Row wise\",t[:3])\n",
    "print(\"Col wise\",t[:,:3])"
   ]
  },
  {
   "cell_type": "code",
   "execution_count": 7,
   "metadata": {},
   "outputs": [
    {
     "name": "stdout",
     "output_type": "stream",
     "text": [
      "Horizontal Split [array([[ 0.,  1.],\n",
      "       [ 4.,  5.],\n",
      "       [ 8.,  9.],\n",
      "       [12., 13.]]), array([[ 2.,  3.],\n",
      "       [ 6.,  7.],\n",
      "       [10., 11.],\n",
      "       [14., 15.]])]\n"
     ]
    }
   ],
   "source": [
    "# (array,no.parts needs to be splited)  colwise\n",
    "print(\"Horizontal Split\",np.hsplit(t,2))"
   ]
  },
  {
   "cell_type": "code",
   "execution_count": 8,
   "metadata": {},
   "outputs": [
    {
     "name": "stdout",
     "output_type": "stream",
     "text": [
      "[ 0  1  2  3  4  5  6  7  8  9 10 11 12 13 14 15 16 17 18 19]\n",
      "slice(1, 10, 2)\n",
      "6\n",
      "[1 3 5 7 9]\n"
     ]
    }
   ],
   "source": [
    "ar=np.arange(20)\n",
    "print(ar)\n",
    "ar_s=slice(1,10,2)\n",
    "print(ar_s)\n",
    "arr=ar[6]\n",
    "print(arr)\n",
    "print(ar[ar_s])"
   ]
  },
  {
   "cell_type": "code",
   "execution_count": 9,
   "metadata": {},
   "outputs": [
    {
     "name": "stdout",
     "output_type": "stream",
     "text": [
      "[[ 0  1  2  3  4]\n",
      " [ 5  6  7  8  9]\n",
      " [10 11 12 13 14]\n",
      " [15 16 17 18 19]]\n",
      "[ 2.  7. 12. 17.]\n"
     ]
    }
   ],
   "source": [
    "rsa=ar.reshape(4,5)\n",
    "print(rsa)\n",
    "# axis=1  rowise\n",
    "# axis=0 colwise\n",
    "mrsa=np.mean(rsa,axis=1)\n",
    "print(mrsa)"
   ]
  },
  {
   "cell_type": "markdown",
   "metadata": {},
   "source": [
    "# Maths and Statistics"
   ]
  },
  {
   "cell_type": "code",
   "execution_count": 10,
   "metadata": {},
   "outputs": [
    {
     "name": "stdout",
     "output_type": "stream",
     "text": [
      "Add Const :  [2 3 4]\n",
      "Sub Const :  [-1  0  1]\n",
      "Mut Const :  [3 6 9]\n",
      "Div Const :  [0.25 0.5  0.75]\n",
      "Power const :  [1 4 9]\n",
      "++++++ Vector Maths ++++++\n",
      "Add Ele  2 to 1:  [3 5 9]\n",
      "Sub Ele 2 to 1 :  [-1 -1 -3]\n",
      "Mut Ele 1 to 2 :  [ 2  6 18]\n",
      "Div Ele 1 to 2:  [0.5        0.66666667 0.5       ]\n",
      "Power Ele 1 to 2:  [  1   8 729]\n",
      "Add Ele  1 to 2:  [3 5 9]\n",
      "Sub Ele 1 to 2 :  [1 1 3]\n",
      "Power Ele 2 to 1:  [  2   9 216]\n",
      "False\n",
      "(3,)\n",
      "False\n",
      "(3, 1)\n",
      "[[1]\n",
      " [2]\n",
      " [3]]\n"
     ]
    }
   ],
   "source": [
    "arr = np.array([1,2,3])\n",
    "print(\"Add Const : \",np.add(arr,1))# Add 1 to each array element\n",
    "print(\"Sub Const : \",np.subtract(arr,2))# Subtract 2 from each array element\n",
    "print(\"Mut Const : \",np.multiply(arr,3)) # Multiply each array element by 3\n",
    "print(\"Div Const : \",np.divide(arr,4))# Divide each array element by 4 (returns np.nan for division by zero)\n",
    "print(\"Power const : \",np.power(arr,2))# Raise each array element to the 2nd power\n",
    "print(\"++++++ Vector Maths ++++++\")\n",
    "arr2 = np.array([2,3,6])\n",
    "arr3 = np.array([[1],[2],[3]])\n",
    "\n",
    "print(\"Add Ele  2 to 1: \", np.add(arr,arr2)) # Elementwise add arr2 to arr\n",
    "print(\"Sub Ele 2 to 1 : \", np.subtract(arr,arr2)) # Elementwise subtract arr2 from arr\n",
    "print(\"Mut Ele 1 to 2 : \", np.multiply(arr,arr2)) # Elementwise multiply arr by arr2\n",
    "print(\"Div Ele 1 to 2: \", np.divide(arr,arr2))# Elementwise divide arr by arr2\n",
    "print(\"Power Ele 1 to 2: \", np.power(arr,arr2))# Elementwise raise arr raised to the power of arr2\n",
    "print(\"Add Ele  1 to 2: \", np.add(arr2,arr)) # Elementwise add arr2 to arr\n",
    "print(\"Sub Ele 1 to 2 : \", np.subtract(arr2,arr)) # Elementwise subtract arr2 from arr\n",
    "print(\"Power Ele 2 to 1: \", np.power(arr2,arr))# Elementwise raise arr2 raised to the power of arr\n",
    "print(np.array_equal(arr,arr2)) # Returns True if the arrays have the same elements and shape)\n",
    "print(arr2.shape)\n",
    "print(np.array_equal(arr2,arr3)) # Returns True if the arrays have the same elements and shape)\n",
    "print(arr3.shape)\n",
    "print(arr3)\n"
   ]
  },
  {
   "cell_type": "code",
   "execution_count": 11,
   "metadata": {},
   "outputs": [
    {
     "name": "stdout",
     "output_type": "stream",
     "text": [
      "=========Statistics=========\n",
      "[4 6 7]\n",
      "Mean Row 5.666666666666667\n",
      "Sum 17\n",
      "Min  4\n",
      "MAX 7\n",
      "Variance 1.5555555555555554\n",
      "Standard Variance :  1.247219128924647\n",
      "Corelation Coefficient : [[ 1.         -0.98198051]\n",
      " [-0.98198051  1.        ]]\n"
     ]
    }
   ],
   "source": [
    "print(\"=========Statistics=========\")\n",
    "arr=np.array([4,6,7])\n",
    "print(arr)\n",
    "print(\"Mean Row\",np.mean(arr,axis=0)) # Returns mean along Row axis\n",
    "# print(\"Mean Col\",np.mean(arr,axis=1)) # Returns mean along col axis\n",
    "print(\"Sum\",arr.sum()) # Returns sum of arr\n",
    "print(\"Min \",arr.min()) # Returns minimum value of arr\n",
    "print(\"MAX\",arr.max(axis=0)) # Returns maximum value of specific axis\n",
    "print(\"Variance\",np.var(arr)) # Returns the variance of array\n",
    "print(\"Standard Variance : \",np.std(arr))# Returns the standard deviation of specific axis\n",
    "print(\"Corelation Coefficient :\",np.corrcoef(np.array([4, 5, 6]),np.array([3, 2, 0])))\n",
    "# Corr( X, X ) Returns correlation coefficient of array\n"
   ]
  },
  {
   "cell_type": "code",
   "execution_count": 12,
   "metadata": {},
   "outputs": [
    {
     "name": "stdout",
     "output_type": "stream",
     "text": [
      "[[0 1 2]\n",
      " [3 4 5]]\n",
      "Mean  2.5\n",
      "Mean Col  [1.5 2.5 3.5]\n",
      "Mean Row  [1. 4.]\n"
     ]
    }
   ],
   "source": [
    "arr1=np.arange(6).reshape(2,3)\n",
    "print(arr1)\n",
    "print(\"Mean \",np.mean(arr1))\n",
    "print(\"Mean Col \",np.mean(arr1,axis=0))\n",
    "print(\"Mean Row \",np.mean(arr1,axis=1))\n"
   ]
  },
  {
   "cell_type": "markdown",
   "metadata": {},
   "source": [
    "# Array Combination and Splitting"
   ]
  },
  {
   "cell_type": "code",
   "execution_count": 18,
   "metadata": {},
   "outputs": [
    {
     "name": "stdout",
     "output_type": "stream",
     "text": [
      "[1 2 3 3 4 5]\n",
      "Concatenate :  [1 2 3 3 4 5]\n",
      "Split :  [1 2] [3 3] [4 5]\n",
      "[[ 0.  1.  2.  3.]\n",
      " [ 4.  5.  6.  7.]\n",
      " [ 8.  9. 10. 11.]\n",
      " [12. 13. 14. 15.]]\n",
      "[[0 1 2 3]\n",
      " [4 5 6 7]]\n",
      "[0 1 2 3 4 5 6 7]\n",
      "[[0 1 2 3]\n",
      " [4 5 6 7]]\n"
     ]
    }
   ],
   "source": [
    "\n",
    "arr1 = np.array([1,2,3])\n",
    "arr2 = np.array([3,4,5])\n",
    "arr=np.concatenate((arr1,arr2)) # default axis =0 , single row\n",
    "print(arr)\n",
    "arr3=np.concatenate((arr1,arr2),axis=0)\n",
    "print(\"Concatenate : \",arr3)\n",
    "a,b,c=np.split(arr, 3)\n",
    "print(\"Split : \",a,b,c)\n",
    "\n",
    "# arr4=np.concatenate((arr1,arr2),axis=1) \n",
    "# print(arr4) axis 1 is out of bounds for array of dimension 1\n",
    "\n",
    "x = np.arange(16.0).reshape(4, 4)\n",
    "print(x)\n",
    "np.divide(x, 2)\n",
    "\n",
    "y=np.arange(8).reshape(2,4)\n",
    "print(y)\n",
    "s=y.flatten() # make it into the single dimensional array\n",
    "print(s)\n",
    "print(y) # y will be always the same structure once it created"
   ]
  },
  {
   "cell_type": "markdown",
   "metadata": {},
   "source": [
    "# Reformating Array"
   ]
  },
  {
   "cell_type": "code",
   "execution_count": 42,
   "metadata": {},
   "outputs": [
    {
     "name": "stdout",
     "output_type": "stream",
     "text": [
      "140462444813728\n",
      "140462444617200\n",
      "S :  [ 0  1 12  3  4  5  6  7]\n",
      "Y :  [[ 4  5  9]\n",
      " [ 6  8 12]]\n",
      "140462444322944\n",
      "Print Base :  None\n",
      "T :  [[ 4  5  9]\n",
      " [ 6  8 12]]  Y :  [[ 4  5  9]\n",
      " [ 6  8 12]]  Z :  [[ 4  5  9]\n",
      " [ 6  8 12]]  S :  [ 0  1 12  3  4  5  6  7]\n",
      "140462444323264\n",
      "[[ 4  5  9]\n",
      " [ 6  8 12]]\n",
      "[[ 4  5  9]\n",
      " [ 6  8 12]]\n",
      "None\n",
      "T :  [[ 4  5  9]\n",
      " [ 6  8 12]]  Y :  [[ 4  5  9]\n",
      " [ 6  8 12]]  Z :  [[ 4  5  9]\n",
      " [ 6  8 12]]  S :  [ 0  1 12  3  4  5  6  7]\n",
      "[ 4  5  9  6  8 12]\n",
      "[1 0 3 2]\n",
      "slice(1, 20, 2)\n",
      "[ 1  3  5  7  9 11 13 15 17 19]\n"
     ]
    }
   ],
   "source": [
    "h=[[4,5,9],[9,8,6]]\n",
    "y=np.array(y)\n",
    "print(id(y))\n",
    "print(id(s)) # id of s and y will be diffenrent any change in s will not effect y\n",
    "s[2]=12\n",
    "print(\"S : \",s)\n",
    "print(\"Y : \",y)\n",
    "z=np.copy(y) # Copies arr to new memory\n",
    "print(id(z))\n",
    "# Print base of copy\n",
    "print(\"Print Base : \",z.base)\n",
    "t=y.view()   # Creates view of arr elements \n",
    "print(\"T : \",t,\" Y : \",y,\" Z : \",z,\" S : \",s)\n",
    "print(id(t))\n",
    "print(t.base)\n",
    "print(y)\n",
    "print(y.sort()) # if base changes copy will not change the values of structure\n",
    "# but if the base changes view will be changing as base \n",
    "y[1,2]=12\n",
    "print(\"T : \",t,\" Y : \",y,\" Z : \",z,\" S : \",s)\n",
    "twoD_arr = y.flatten(order='C') # flatten multidimensional to 1 D\n",
    "print(twoD_arr)\n",
    "arr = np.array([3,1,6,5])\n",
    "print(arr.argsort())   # sort by indices return indexes\n",
    "\n",
    "a=np.arange(20)\n",
    "a_slice=slice(1,20,2)\n",
    "print(a_slice)\n",
    "p=a[a_slice]\n",
    "print(p)"
   ]
  },
  {
   "cell_type": "markdown",
   "metadata": {},
   "source": [
    "Numpy Array Cration Routines # Create empty araay with zeros "
   ]
  },
  {
   "cell_type": "code",
   "execution_count": 46,
   "metadata": {},
   "outputs": [
    {
     "name": "stdout",
     "output_type": "stream",
     "text": [
      "[[ 4  5]\n",
      " [ 9  6]\n",
      " [ 8 12]]\n"
     ]
    }
   ],
   "source": [
    "x=np.empty([3,2],dtype='int')\n",
    "print(x) "
   ]
  },
  {
   "cell_type": "code",
   "execution_count": 48,
   "metadata": {},
   "outputs": [
    {
     "name": "stdout",
     "output_type": "stream",
     "text": [
      "[]\n",
      "[[1, 2, 3, 4]]\n",
      "[[1, 2, 3, 4], [5, 6, 8, 2]]\n"
     ]
    }
   ],
   "source": [
    "a=[1,2,3,4]\n",
    "b=[5,6,8,2]\n",
    "c=[]\n",
    "print(c)\n",
    "c.append(a)\n",
    "print(c)\n",
    "c.append(b)\n",
    "print(c)"
   ]
  }
 ],
 "metadata": {
  "kernelspec": {
   "display_name": "Python 3",
   "language": "python",
   "name": "python3"
  },
  "language_info": {
   "codemirror_mode": {
    "name": "ipython",
    "version": 3
   },
   "file_extension": ".py",
   "mimetype": "text/x-python",
   "name": "python",
   "nbconvert_exporter": "python",
   "pygments_lexer": "ipython3",
   "version": "3.6.8"
  }
 },
 "nbformat": 4,
 "nbformat_minor": 1
}
