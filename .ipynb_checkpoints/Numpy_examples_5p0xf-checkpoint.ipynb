{
 "cells": [
  {
   "cell_type": "code",
   "execution_count": 5,
   "metadata": {},
   "outputs": [
    {
     "name": "stdout",
     "output_type": "stream",
     "text": [
      "Lists [1, 2, 3, 4, 1, 2, 3, 4]\n",
      "Numpy arrays [2 4 6 8]\n",
      "List addition [1, 2, 3, 4, 1, 2, 3, 4]\n",
      "Array addition [2 4 6 8]\n",
      "Array Multiplication [ 1  4  9 16]\n",
      "Array Division [1 1 1 1]\n",
      "Array Modulo [0 0 0 0]\n"
     ]
    }
   ],
   "source": [
    "# element wise operations in list is not that straightforward\n",
    "print \"Lists\", [1,2,3,4]*2\n",
    "import numpy as np\n",
    "arr = np.array([1,2,3,4])\n",
    "print \"Numpy arrays\", arr*2\n",
    "print \"List addition\", [1,2,3,4]+[1,2,3,4]\n",
    "print \"Array addition\", arr+arr\n",
    "print \"Array Multiplication\", arr*arr\n",
    "print \"Array Division\", arr/arr\n",
    "print \"Array Modulo\", arr%arr"
   ]
  },
  {
   "cell_type": "markdown",
   "metadata": {},
   "source": [
    "# Creating ARRAYs"
   ]
  },
  {
   "cell_type": "code",
   "execution_count": 2,
   "metadata": {},
   "outputs": [
    {
     "name": "stdout",
     "output_type": "stream",
     "text": [
      "[0 0 0]\n",
      "[[ 1.  1.  1.  1.]\n",
      " [ 1.  1.  1.  1.]]\n",
      "[[ 1.  0.  0.  0.  0.]\n",
      " [ 0.  1.  0.  0.  0.]\n",
      " [ 0.  0.  1.  0.  0.]\n",
      " [ 0.  0.  0.  1.  0.]\n",
      " [ 0.  0.  0.  0.  1.]]\n",
      "[  0.  10.  20.  30.  40.  50.]\n",
      "[0 3 6 9]\n",
      "[[8 8 8]\n",
      " [8 8 8]]\n",
      "[[ 0.60251722  0.68738167  0.57075932  0.40580199]\n",
      " [ 0.56691817  0.47430316  0.41263942  0.35626586]\n",
      " [ 0.85051022  0.06339098  0.03766995  0.68322149]]\n",
      "[[ 82.79947816  62.80151136  44.39874164  17.06852764]\n",
      " [ 43.66097395  58.37759556  23.31528023  43.12269578]\n",
      " [ 28.6722249   94.54895511  75.1057213   48.31005163]]\n",
      "[[4 0 2]\n",
      " [2 4 3]]\n"
     ]
    }
   ],
   "source": [
    "import numpy as np\n",
    "\n",
    "np.array([1,2,3])  # one dimensional array\n",
    "\n",
    "np.array([(1,2,3),(4,5,6)])  # two dimensional array\n",
    "\n",
    "print np.zeros(3, dtype=int) # 1 D array of zero values\n",
    "\n",
    "print np.ones((2, 4)) # 2x4 array\n",
    "\n",
    "print np.eye(5) # Identity Matrix\n",
    "\n",
    "print np.linspace(0, 50, 6)\n",
    "\n",
    "print np.arange(0, 10, 3)\n",
    "\n",
    "print np.full((2,3), 8)\n",
    "\n",
    "print np.random.rand(3, 4)\n",
    "\n",
    "print np.random.rand(3, 4)*100\n",
    "\n",
    "print np.random.randint(5, size=(2, 3))"
   ]
  },
  {
   "cell_type": "markdown",
   "metadata": {},
   "source": [
    "# Numpy Properties   "
   ]
  },
  {
   "cell_type": "code",
   "execution_count": 37,
   "metadata": {},
   "outputs": [
    {
     "name": "stdout",
     "output_type": "stream",
     "text": [
      "6\n",
      "(2, 3)\n",
      "|S1\n",
      "[[ 1.  2.  3.]\n",
      " [ 3.  4.  5.]]\n",
      "[['1', '2', '3'], ['3', '4', '5']]\n",
      " eye(N, M=None, k=0, dtype=<type 'float'>)\n",
      "\n",
      "Return a 2-D array with ones on the diagonal and zeros elsewhere.\n",
      "\n",
      "Parameters\n",
      "----------\n",
      "N : int\n",
      "  Number of rows in the output.\n",
      "M : int, optional\n",
      "  Number of columns in the output. If None, defaults to `N`.\n",
      "k : int, optional\n",
      "  Index of the diagonal: 0 (the default) refers to the main diagonal,\n",
      "  a positive value refers to an upper diagonal, and a negative value\n",
      "  to a lower diagonal.\n",
      "dtype : data-type, optional\n",
      "  Data-type of the returned array.\n",
      "\n",
      "Returns\n",
      "-------\n",
      "I : ndarray of shape (N,M)\n",
      "  An array where all elements are equal to zero, except for the `k`-th\n",
      "  diagonal, whose values are equal to one.\n",
      "\n",
      "See Also\n",
      "--------\n",
      "identity : (almost) equivalent function\n",
      "diag : diagonal 2-D array from a 1-D array specified by the user.\n",
      "\n",
      "Examples\n",
      "--------\n",
      ">>> np.eye(2, dtype=int)\n",
      "array([[1, 0],\n",
      "       [0, 1]])\n",
      ">>> np.eye(3, k=1)\n",
      "array([[ 0.,  1.,  0.],\n",
      "       [ 0.,  0.,  1.],\n",
      "       [ 0.,  0.,  0.]])\n"
     ]
    }
   ],
   "source": [
    "arr = np.array([['1','2','3'], ['3', '4','5']])\n",
    "\n",
    "print arr.size\n",
    "\n",
    "print arr.shape\n",
    "\n",
    "print arr.dtype\n",
    "\n",
    "print arr.astype(float)\n",
    "\n",
    "print arr.tolist()\n",
    "\n",
    "np.info(np.eye)"
   ]
  },
  {
   "cell_type": "markdown",
   "metadata": {},
   "source": [
    "# Reformating Array"
   ]
  },
  {
   "cell_type": "code",
   "execution_count": 49,
   "metadata": {},
   "outputs": [
    {
     "name": "stdout",
     "output_type": "stream",
     "text": [
      "4517072208\n",
      "4517749104\n",
      "Base for Copy None\n",
      "4517750144\n",
      "Base For View 4517072208\n",
      "[3 1 2 1 5 4]\n",
      "[[3 1]\n",
      " [2 1]\n",
      " [5 4]]\n",
      "[1 0 3 2]\n"
     ]
    }
   ],
   "source": [
    "print id(arr)\n",
    "arr2 = np.copy(arr) # Copies arr to new memory\n",
    "print id(arr2)\n",
    "print \"Base for Copy\", arr2.base\n",
    "\n",
    "arr3 = arr.view()   # Creates view of arr elements \n",
    "print id(arr3)\n",
    "print \"Base For View\", id(arr3.base)\n",
    "arr.sort()\n",
    "\n",
    "arr4 = np.array([(3,1,2),(1,5,4)]) \n",
    "\n",
    "\n",
    "twoD_arr = arr4.flatten(order='C') # flatten multidimensional to 1 D\n",
    "print twoD_arr\n",
    "\n",
    "print arr4.reshape(3, 2)\n",
    "\n",
    "arr = np.array([3,1,6,5])\n",
    "print arr.argsort()   # sort by indices"
   ]
  },
  {
   "cell_type": "code",
   "execution_count": 50,
   "metadata": {
    "collapsed": true
   },
   "outputs": [],
   "source": [
    "print arr4.flatten?"
   ]
  },
  {
   "cell_type": "code",
   "execution_count": null,
   "metadata": {
    "collapsed": true
   },
   "outputs": [],
   "source": [
    "print arr4.flatten"
   ]
  },
  {
   "cell_type": "code",
   "execution_count": null,
   "metadata": {
    "collapsed": true
   },
   "outputs": [],
   "source": [
    "print arr4.flatten"
   ]
  },
  {
   "cell_type": "markdown",
   "metadata": {},
   "source": [
    "# Array Combination and Splitting"
   ]
  },
  {
   "cell_type": "code",
   "execution_count": 52,
   "metadata": {},
   "outputs": [
    {
     "name": "stdout",
     "output_type": "stream",
     "text": [
      "Concat [1 2 3 3 4 5]\n"
     ]
    },
    {
     "data": {
      "text/plain": [
       "[array([1, 2]), array([3, 3]), array([4, 5])]"
      ]
     },
     "execution_count": 52,
     "metadata": {},
     "output_type": "execute_result"
    }
   ],
   "source": [
    "arr1 = np.array([1,2,3])\n",
    "arr2 = np.array([3,4,5])\n",
    "\n",
    "arr = np.concatenate((arr1,arr2),axis=0)  # Adds arr2 as rows to the end of arr1\n",
    "\n",
    "print \"Concat\", arr\n",
    "np.split(arr, 3)\n",
    "\n",
    "np.divide(x, x)"
   ]
  },
  {
   "cell_type": "code",
   "execution_count": 35,
   "metadata": {},
   "outputs": [
    {
     "name": "stdout",
     "output_type": "stream",
     "text": [
      "[[ 0.  1.  2.  3.]\n",
      " [ 4.  5.  6.  7.]\n",
      " [ 8.  9. 10. 11.]\n",
      " [12. 13. 14. 15.]]\n"
     ]
    },
    {
     "name": "stderr",
     "output_type": "stream",
     "text": [
      "/Users/abhinavkumar/PycharmProjects/RND/py3.6/lib/python3.6/site-packages/ipykernel_launcher.py:7: RuntimeWarning: invalid value encountered in true_divide\n",
      "  import sys\n"
     ]
    },
    {
     "data": {
      "text/plain": [
       "array([[nan,  1.,  1.,  1.],\n",
       "       [ 1.,  1.,  1.,  1.],\n",
       "       [ 1.,  1.,  1.,  1.],\n",
       "       [ 1.,  1.,  1.,  1.]])"
      ]
     },
     "execution_count": 35,
     "metadata": {},
     "output_type": "execute_result"
    }
   ],
   "source": [
    "x = np.arange(16.0).reshape(4, 4)\n",
    "#print(x[:])\n",
    "\n",
    "# print(\"Row wise\", x[2:])\n",
    "#print(\"Column wise\", x[:,1:3])\n",
    "print(x)\n",
    "np.divide(x, x)\n",
    "# list = [[1, 2, 4], [3, 4, 5]]\n",
    "# np.array(list)\n",
    "# np.arange(16.0).reshape(4, 4)"
   ]
  },
  {
   "cell_type": "code",
   "execution_count": 14,
   "metadata": {},
   "outputs": [
    {
     "data": {
      "text/plain": [
       "[array([[ 0.,  1.],\n",
       "        [ 4.,  5.],\n",
       "        [ 8.,  9.],\n",
       "        [12., 13.]]), array([[ 2.,  3.],\n",
       "        [ 6.,  7.],\n",
       "        [10., 11.],\n",
       "        [14., 15.]])]"
      ]
     },
     "execution_count": 14,
     "metadata": {},
     "output_type": "execute_result"
    }
   ],
   "source": [
    "np.hsplit(x, 2)"
   ]
  },
  {
   "cell_type": "markdown",
   "metadata": {},
   "source": [
    "# Indexing/slicing/subsetting"
   ]
  },
  {
   "cell_type": "code",
   "execution_count": 15,
   "metadata": {},
   "outputs": [
    {
     "ename": "SyntaxError",
     "evalue": "Missing parentheses in call to 'print' (<ipython-input-15-a8bb6dfb5dcc>, line 3)",
     "output_type": "error",
     "traceback": [
      "\u001b[0;36m  File \u001b[0;32m\"<ipython-input-15-a8bb6dfb5dcc>\"\u001b[0;36m, line \u001b[0;32m3\u001b[0m\n\u001b[0;31m    print x\u001b[0m\n\u001b[0m          ^\u001b[0m\n\u001b[0;31mSyntaxError\u001b[0m\u001b[0;31m:\u001b[0m Missing parentheses in call to 'print'\n"
     ]
    }
   ],
   "source": [
    "x = np.arange(16.0).reshape(4, 4)\n",
    "\n",
    "print x\n",
    "print x[0:3]    # Returns elements at indices 0,1,2\n",
    "\n",
    "print x[0:3, 3]    # Returns the elements on rows 0,1,2 at column 4\n",
    "\n",
    "print x[:2]  # Returns the elements at indices 0,1\n",
    "\n",
    "print x[:, 1]\n",
    "\n",
    "print x>5  # Returns an array with boolean values\n",
    "\n",
    "\n",
    "x < 5\n",
    "\n",
    "x[1,3]=10\n",
    "\n",
    "print x"
   ]
  },
  {
   "cell_type": "markdown",
   "metadata": {},
   "source": []
  },
  {
   "cell_type": "markdown",
   "metadata": {},
   "source": [
    "# Maths and Statistics"
   ]
  },
  {
   "cell_type": "code",
   "execution_count": 41,
   "metadata": {},
   "outputs": [
    {
     "name": "stdout",
     "output_type": "stream",
     "text": [
      "[[0 1 2]\n",
      " [3 4 5]]\n"
     ]
    },
    {
     "data": {
      "text/plain": [
       "array([1., 4.])"
      ]
     },
     "execution_count": 41,
     "metadata": {},
     "output_type": "execute_result"
    }
   ],
   "source": [
    "arr = np.array([1,2,3])\n",
    "\n",
    "n = np.arange(6).reshape(2, 3)\n",
    "\n",
    "print(n)\n",
    "np.mean(n, axis=1)\n",
    "# print np.add(arr,1) # Add 1 to each array element\n",
    "\n",
    "# print np.subtract(arr,2) # Subtract 2 from each array element\n",
    "\n",
    "# print np.multiply(arr,3) # Multiply each array element by 3\n",
    "\n",
    "# print np.divide(arr,4) # Divide each array element by 4 (returns np.nan for division by zero)\n",
    "\n",
    "# print np.power(arr,5) # Raise each array element to the 5th power\n",
    "\n",
    "# print \"========Vector Maths=========\"\n",
    "\n",
    "# arr2 = np.array([2,3,6])\n",
    "\n",
    "\n",
    "# print np.add(arr1,arr2) # Elementwise add arr2 to arr1\n",
    "\n",
    "# print np.subtract(arr1,arr2) # Elementwise subtract arr2 from arr1\n",
    "\n",
    "# print np.multiply(arr1,arr2) # Elementwise multiply arr1 by arr2\n",
    "\n",
    "# print np.divide(arr1,arr2) # Elementwise divide arr1 by arr2\n",
    "\n",
    "# print np.power(arr1,arr2) # Elementwise raise arr1 raised to the power of arr2\n",
    "\n",
    "# print np.array_equal(arr1,arr2) # Returns True if the arrays have the same elements and shape\n",
    "\n",
    "\n",
    "# print \"=========Statistics=========\"\n",
    "\n",
    "# print np.mean(arr,axis=0) # Returns mean along specific axis\n",
    "\n",
    "# print arr.sum() # Returns sum of arr\n",
    "\n",
    "# print arr.min() # Returns minimum value of arr\n",
    "\n",
    "# print arr.max(axis=0) # Returns maximum value of specific axis\n",
    "\n",
    "# print np.var(arr) # Returns the variance of array\n",
    "\n",
    "# print np.std(arr) # Returns the standard deviation of specific axis\n",
    "\n",
    "# print  \"arr\", arr\n",
    "# print  \"arr2\", arr2\n",
    "# print np.corrcoef(np.array([4, 5, 6]), np.array([3, 2, 0]))\n",
    "\n",
    "# \"\"\" Corr( X, X )    Corr( X, Y )\n",
    "\n",
    "#     Corr( Y, X )    Corr( Y, Y )\"\"\"\n",
    "# print np.corrcoef(arr, arr2) # Returns correlation coefficient of array"
   ]
  },
  {
   "cell_type": "code",
   "execution_count": null,
   "metadata": {
    "collapsed": true
   },
   "outputs": [],
   "source": [
    "print np.corrcoef"
   ]
  },
  {
   "cell_type": "code",
   "execution_count": 24,
   "metadata": {},
   "outputs": [
    {
     "data": {
      "text/plain": [
       "array([1, 3, 5, 6])"
      ]
     },
     "execution_count": 24,
     "metadata": {},
     "output_type": "execute_result"
    }
   ],
   "source": [
    "np.sort(arr)"
   ]
  },
  {
   "cell_type": "code",
   "execution_count": 25,
   "metadata": {},
   "outputs": [
    {
     "data": {
      "text/plain": [
       "array([3, 1, 6, 5])"
      ]
     },
     "execution_count": 25,
     "metadata": {},
     "output_type": "execute_result"
    }
   ],
   "source": [
    "arr"
   ]
  },
  {
   "cell_type": "code",
   "execution_count": 26,
   "metadata": {
    "collapsed": true
   },
   "outputs": [],
   "source": [
    "arr.sort()"
   ]
  },
  {
   "cell_type": "code",
   "execution_count": 30,
   "metadata": {
    "collapsed": true
   },
   "outputs": [],
   "source": [
    "arr = np.array([1, 'a'])"
   ]
  },
  {
   "cell_type": "code",
   "execution_count": 31,
   "metadata": {},
   "outputs": [
    {
     "data": {
      "text/plain": [
       "array(['1', 'a'],\n",
       "      dtype='|S21')"
      ]
     },
     "execution_count": 31,
     "metadata": {},
     "output_type": "execute_result"
    }
   ],
   "source": [
    "arr"
   ]
  },
  {
   "cell_type": "code",
   "execution_count": 34,
   "metadata": {},
   "outputs": [
    {
     "data": {
      "text/plain": [
       "4.0"
      ]
     },
     "execution_count": 34,
     "metadata": {},
     "output_type": "execute_result"
    }
   ],
   "source": [
    "arr = np.array([3,1,6,5])\n",
    "np.median(arr)"
   ]
  },
  {
   "cell_type": "code",
   "execution_count": 40,
   "metadata": {
    "collapsed": true
   },
   "outputs": [],
   "source": [
    "mat = np.mat(\"[1,2;2,3]\")"
   ]
  },
  {
   "cell_type": "code",
   "execution_count": null,
   "metadata": {
    "collapsed": true
   },
   "outputs": [],
   "source": []
  },
  {
   "cell_type": "code",
   "execution_count": 43,
   "metadata": {
    "collapsed": true
   },
   "outputs": [],
   "source": [
    "arr = np.array([[1,2],[2,3]])"
   ]
  },
  {
   "cell_type": "code",
   "execution_count": 44,
   "metadata": {},
   "outputs": [
    {
     "data": {
      "text/plain": [
       "array([[1, 2],\n",
       "       [2, 3]])"
      ]
     },
     "execution_count": 44,
     "metadata": {},
     "output_type": "execute_result"
    }
   ],
   "source": [
    "arr"
   ]
  },
  {
   "cell_type": "code",
   "execution_count": 49,
   "metadata": {},
   "outputs": [
    {
     "data": {
      "text/plain": [
       "array([[ 5,  8],\n",
       "       [ 8, 13]])"
      ]
     },
     "execution_count": 49,
     "metadata": {},
     "output_type": "execute_result"
    }
   ],
   "source": [
    "np.dot(arr, arr)"
   ]
  },
  {
   "cell_type": "code",
   "execution_count": 46,
   "metadata": {},
   "outputs": [
    {
     "data": {
      "text/plain": [
       "matrix([[ 5,  8],\n",
       "        [ 8, 13]])"
      ]
     },
     "execution_count": 46,
     "metadata": {},
     "output_type": "execute_result"
    }
   ],
   "source": [
    "mat * mat"
   ]
  },
  {
   "cell_type": "code",
   "execution_count": 75,
   "metadata": {
    "collapsed": true
   },
   "outputs": [],
   "source": [
    "import scipy as sp\n",
    "z = sp.randn(50)"
   ]
  },
  {
   "cell_type": "code",
   "execution_count": 80,
   "metadata": {},
   "outputs": [
    {
     "name": "stdout",
     "output_type": "stream",
     "text": [
      "DescribeResult(nobs=50, minmax=(-2.7432888495128984, 2.7097105760420273), mean=-0.11949766130709957, variance=1.023887244496994, skewness=-0.036899222288487854, kurtosis=0.6576983380345021)\n"
     ]
    }
   ],
   "source": [
    "from scipy import stats\n",
    "\n",
    "print stats.describe(z)"
   ]
  },
  {
   "cell_type": "code",
   "execution_count": 29,
   "metadata": {},
   "outputs": [
    {
     "data": {
      "text/plain": [
       "array([[1, 1],\n",
       "       [1, 1]])"
      ]
     },
     "execution_count": 29,
     "metadata": {},
     "output_type": "execute_result"
    }
   ],
   "source": [
    " IN  = [1, 2, 4]\n",
    " OUT = [4, 8, 16]  \n",
    "\n",
    "A = [[1, 2],\n",
    "  [2, 4]]  \n",
    "    \n",
    "B = [[0, 1],\n",
    "    [1, 3]]\n",
    "\n",
    "import numpy as np\n",
    "np.array(A) - np.array(B)"
   ]
  },
  {
   "cell_type": "code",
   "execution_count": 53,
   "metadata": {
    "collapsed": true
   },
   "outputs": [],
   "source": [
    "A = [[1, 2],[2, 4]] "
   ]
  },
  {
   "cell_type": "code",
   "execution_count": 59,
   "metadata": {},
   "outputs": [
    {
     "data": {
      "text/plain": [
       "2"
      ]
     },
     "execution_count": 59,
     "metadata": {},
     "output_type": "execute_result"
    }
   ],
   "source": [
    "A[1][0]"
   ]
  },
  {
   "cell_type": "code",
   "execution_count": 57,
   "metadata": {},
   "outputs": [
    {
     "data": {
      "text/plain": [
       "[2, 4]"
      ]
     },
     "execution_count": 57,
     "metadata": {},
     "output_type": "execute_result"
    }
   ],
   "source": [
    "B"
   ]
  },
  {
   "cell_type": "code",
   "execution_count": 58,
   "metadata": {},
   "outputs": [
    {
     "data": {
      "text/plain": [
       "2"
      ]
     },
     "execution_count": 58,
     "metadata": {},
     "output_type": "execute_result"
    }
   ],
   "source": [
    "B[0]"
   ]
  },
  {
   "cell_type": "code",
   "execution_count": 69,
   "metadata": {},
   "outputs": [
    {
     "data": {
      "text/plain": [
       "True"
      ]
     },
     "execution_count": 69,
     "metadata": {},
     "output_type": "execute_result"
    }
   ],
   "source": [
    "l = [1, 2]\n",
    "any([len(l) >1, l[1] == 3])"
   ]
  },
  {
   "cell_type": "code",
   "execution_count": 71,
   "metadata": {},
   "outputs": [
    {
     "data": {
      "text/plain": [
       "array([1, 4])"
      ]
     },
     "execution_count": 71,
     "metadata": {},
     "output_type": "execute_result"
    }
   ],
   "source": [
    "arr1 = np.array([1, 2])\n",
    "\n",
    "arr1 ** arr1"
   ]
  },
  {
   "cell_type": "code",
   "execution_count": 72,
   "metadata": {
    "collapsed": true
   },
   "outputs": [],
   "source": [
    "mat = np.mat(arr1)"
   ]
  },
  {
   "cell_type": "code",
   "execution_count": 73,
   "metadata": {},
   "outputs": [
    {
     "data": {
      "text/plain": [
       "matrix([[1, 2]])"
      ]
     },
     "execution_count": 73,
     "metadata": {},
     "output_type": "execute_result"
    }
   ],
   "source": [
    "mat"
   ]
  },
  {
   "cell_type": "code",
   "execution_count": 7,
   "metadata": {},
   "outputs": [
    {
     "data": {
      "text/plain": [
       "[1, 4, 6, 1, 4, 6]"
      ]
     },
     "execution_count": 7,
     "metadata": {},
     "output_type": "execute_result"
    }
   ],
   "source": [
    "input = [1,4,6]\n",
    "output = [2, 8, 12]\n",
    "\n",
    "input * 2"
   ]
  },
  {
   "cell_type": "code",
   "execution_count": 6,
   "metadata": {},
   "outputs": [
    {
     "data": {
      "text/plain": [
       "<bound method Kernel.raw_input of <ipykernel.ipkernel.IPythonKernel object at 0x107471a20>>"
      ]
     },
     "execution_count": 6,
     "metadata": {},
     "output_type": "execute_result"
    }
   ],
   "source": [
    "import numpy as np"
   ]
  },
  {
   "cell_type": "code",
   "execution_count": 8,
   "metadata": {
    "collapsed": true
   },
   "outputs": [],
   "source": [
    "res = np.array(input)"
   ]
  },
  {
   "cell_type": "code",
   "execution_count": 9,
   "metadata": {},
   "outputs": [
    {
     "data": {
      "text/plain": [
       "array([1, 4, 6])"
      ]
     },
     "execution_count": 9,
     "metadata": {},
     "output_type": "execute_result"
    }
   ],
   "source": [
    "res"
   ]
  },
  {
   "cell_type": "code",
   "execution_count": 10,
   "metadata": {},
   "outputs": [
    {
     "data": {
      "text/plain": [
       "array([ 2,  8, 12])"
      ]
     },
     "execution_count": 10,
     "metadata": {},
     "output_type": "execute_result"
    }
   ],
   "source": [
    "res * 2"
   ]
  },
  {
   "cell_type": "code",
   "execution_count": 43,
   "metadata": {},
   "outputs": [
    {
     "data": {
      "text/plain": [
       "dtype('int64')"
      ]
     },
     "execution_count": 43,
     "metadata": {},
     "output_type": "execute_result"
    }
   ],
   "source": [
    "res.dtype"
   ]
  },
  {
   "cell_type": "code",
   "execution_count": 44,
   "metadata": {
    "collapsed": true
   },
   "outputs": [],
   "source": [
    "arr = np.arange(20)\n",
    "a_slice = slice(1, 20, 2)"
   ]
  },
  {
   "cell_type": "code",
   "execution_count": 45,
   "metadata": {},
   "outputs": [
    {
     "data": {
      "text/plain": [
       "array([ 1,  3,  5,  7,  9, 11, 13, 15, 17, 19])"
      ]
     },
     "execution_count": 45,
     "metadata": {},
     "output_type": "execute_result"
    }
   ],
   "source": [
    "arr[a_slice]"
   ]
  },
  {
   "cell_type": "code",
   "execution_count": 47,
   "metadata": {},
   "outputs": [
    {
     "data": {
      "text/plain": [
       "array([ 1,  3,  5,  7,  9, 11, 13, 15, 17, 19])"
      ]
     },
     "execution_count": 47,
     "metadata": {},
     "output_type": "execute_result"
    }
   ],
   "source": [
    "arr[1:20:2]"
   ]
  },
  {
   "cell_type": "code",
   "execution_count": 48,
   "metadata": {
    "collapsed": true
   },
   "outputs": [],
   "source": [
    "a = [1,2, 3, 4]\n",
    "b = [1, 2, 3]\n",
    "\n",
    "c = []\n",
    "c.append(a)\n",
    "c.append(b)"
   ]
  },
  {
   "cell_type": "code",
   "execution_count": 49,
   "metadata": {},
   "outputs": [
    {
     "data": {
      "text/plain": [
       "[[1, 2, 3, 4], [1, 2, 3]]"
      ]
     },
     "execution_count": 49,
     "metadata": {},
     "output_type": "execute_result"
    }
   ],
   "source": [
    "c"
   ]
  },
  {
   "cell_type": "code",
   "execution_count": 4,
   "metadata": {},
   "outputs": [],
   "source": [
    "import numpy as np\n",
    "n = np.arange(6).reshape(2, 3)"
   ]
  },
  {
   "cell_type": "code",
   "execution_count": 10,
   "metadata": {},
   "outputs": [],
   "source": [
    "np.savetxt('demo_file.txt', n, '%1.4e')"
   ]
  },
  {
   "cell_type": "code",
   "execution_count": 11,
   "metadata": {},
   "outputs": [
    {
     "name": "stdout",
     "output_type": "stream",
     "text": [
      "0.0000e+00 1.0000e+00 2.0000e+00\r\n",
      "3.0000e+00 4.0000e+00 5.0000e+00\r\n"
     ]
    }
   ],
   "source": [
    "cat demo_file.txt"
   ]
  },
  {
   "cell_type": "code",
   "execution_count": 12,
   "metadata": {
    "collapsed": true
   },
   "outputs": [],
   "source": [
    "test = np.loadtxt('demo_file.txt')"
   ]
  },
  {
   "cell_type": "code",
   "execution_count": 13,
   "metadata": {},
   "outputs": [
    {
     "data": {
      "text/plain": [
       "array([[0., 1., 2.],\n",
       "       [3., 4., 5.]])"
      ]
     },
     "execution_count": 13,
     "metadata": {},
     "output_type": "execute_result"
    }
   ],
   "source": [
    "test"
   ]
  },
  {
   "cell_type": "code",
   "execution_count": null,
   "metadata": {
    "collapsed": true
   },
   "outputs": [],
   "source": []
  }
 ],
 "metadata": {
  "kernelspec": {
   "display_name": "Python 3",
   "language": "python",
   "name": "python3"
  },
  "language_info": {
   "codemirror_mode": {
    "name": "ipython",
    "version": 3
   },
   "file_extension": ".py",
   "mimetype": "text/x-python",
   "name": "python",
   "nbconvert_exporter": "python",
   "pygments_lexer": "ipython3",
   "version": "3.6.8"
  }
 },
 "nbformat": 4,
 "nbformat_minor": 2
}
