{
 "cells": [
  {
   "cell_type": "markdown",
   "metadata": {
    "collapsed": true
   },
   "source": [
    "create a numpy array"
   ]
  },
  {
   "cell_type": "code",
   "execution_count": 2,
   "metadata": {},
   "outputs": [],
   "source": [
    "import numpy as np"
   ]
  },
  {
   "cell_type": "markdown",
   "metadata": {},
   "source": [
    "The key difference between an array and a list is, arrays are designed to handle vectorized operations while a python list is not."
   ]
  },
  {
   "cell_type": "code",
   "execution_count": 4,
   "metadata": {},
   "outputs": [
    {
     "name": "stdout",
     "output_type": "stream",
     "text": [
      "[1 2 3 4 5]\n"
     ]
    },
    {
     "data": {
      "text/plain": [
       "array([1, 2, 3, 4, 5])"
      ]
     },
     "execution_count": 4,
     "metadata": {},
     "output_type": "execute_result"
    }
   ],
   "source": [
    "list1=[1,2,3,4,5]\n",
    "arr=np.array(list1)\n",
    "print(arr)\n",
    "arr"
   ]
  },
  {
   "cell_type": "markdown",
   "metadata": {},
   "source": [
    "type of the Array"
   ]
  },
  {
   "cell_type": "code",
   "execution_count": 5,
   "metadata": {},
   "outputs": [
    {
     "name": "stdout",
     "output_type": "stream",
     "text": [
      "<class 'numpy.ndarray'>\n"
     ]
    }
   ],
   "source": [
    "list1=[1,2,3,4,5]\n",
    "arr=np.array(list1)\n",
    "print(type(arr))"
   ]
  },
  {
   "cell_type": "markdown",
   "metadata": {},
   "source": [
    "can't do operations on every item of list\n",
    "but array can do it on array"
   ]
  },
  {
   "cell_type": "code",
   "execution_count": 3,
   "metadata": {
    "scrolled": true
   },
   "outputs": [
    {
     "name": "stdout",
     "output_type": "stream",
     "text": [
      "[1, 2, 3, 4, 5, 5, 4, 3, 2, 1]\n"
     ]
    }
   ],
   "source": [
    "list1=[1,2,3,4,5]\n",
    "list2=[5,4,3,2,1]\n",
    "arr=np.array(list1)\n",
    "print(list1+2) #cant add int to list type mismatch error\n",
    "print(list1+list2)#adding 2 list will give combined items from first and second\n"
   ]
  },
  {
   "cell_type": "code",
   "execution_count": 4,
   "metadata": {},
   "outputs": [
    {
     "name": "stdout",
     "output_type": "stream",
     "text": [
      "[3 4 5 6 7]\n",
      "[6 6 6 6 6]\n"
     ]
    }
   ],
   "source": [
    "list1=[1,2,3,4,5]\n",
    "list2=[5,4,3,2,1]\n",
    "arr=np.array(list1)\n",
    "arr2=np.array(list2)\n",
    "print(arr+2) #add 2 with every items\n",
    "print(arr+arr2)# add first array elements with sec array and give resultant sum"
   ]
  },
  {
   "cell_type": "markdown",
   "metadata": {},
   "source": [
    "once a numpy array is created, you cannot increase its size. To do so, you will have to create a new array. But such a behavior of extending the size is natural in a list.\n"
   ]
  },
  {
   "cell_type": "markdown",
   "metadata": {},
   "source": [
    "the most commonly used numpy dtypes are: 'float', 'int', 'bool', 'str' and 'object'.\n",
    "To control the memory allocations you may choose to use one of ‘float32’, ‘float64’, ‘int8’, ‘int16’ or ‘int32’.\n",
    "if you want to hold characters and numbers in the same array, "
   ]
  },
  {
   "cell_type": "code",
   "execution_count": 7,
   "metadata": {},
   "outputs": [
    {
     "name": "stdout",
     "output_type": "stream",
     "text": [
      "Array\n",
      "[[0 1 2]\n",
      " [3 4 5]\n",
      " [6 7 8]]\n",
      "Float\n",
      "[[0. 1. 2.]\n",
      " [3. 4. 5.]\n",
      " [6. 7. 8.]]\n",
      "Int\n",
      "[[0 1 2]\n",
      " [3 4 5]\n",
      " [6 7 8]]\n",
      "String\n",
      "[['0' '1' '2']\n",
      " ['3' '4' '5']\n",
      " ['6' '7' '8']] \n",
      "\n",
      "Boolean\n",
      "[False  True  True]\n",
      "Object\n",
      "[1 'a']\n"
     ]
    }
   ],
   "source": [
    "list2 = [[0,1,2], [3,4,5], [6,7,8]]\n",
    "arr=np.array(list2)\n",
    "print(\"Array\")\n",
    "print(arr)\n",
    "arr_f=np.array(list2,dtype='float')\n",
    "print(\"Float\")\n",
    "print(arr_f)\n",
    "arr_i=arr_f.astype('int')\n",
    "print(\"Int\")\n",
    "print(arr_i)\n",
    "arr_s=arr_i.astype('str')\n",
    "print(\"String\")\n",
    "print(arr_s,\"\\n\")\n",
    "arr_b=np.array([0, 11, 10], dtype='bool')\n",
    "print(\"Boolean\")\n",
    "print(arr_b)\n",
    "arr_obj=np.array([1,'a'],dtype='object')\n",
    "print(\"Object\")\n",
    "print(arr_obj)"
   ]
  },
  {
   "cell_type": "markdown",
   "metadata": {},
   "source": [
    "How to inspect the size and shape of a numpy array"
   ]
  },
  {
   "cell_type": "code",
   "execution_count": 7,
   "metadata": {},
   "outputs": [
    {
     "name": "stdout",
     "output_type": "stream",
     "text": [
      "Shape\n",
      "(1, 3, 4) \n",
      "\n",
      "Dtype\n",
      "int8 \n",
      "\n",
      "Size\n",
      "12 \n",
      "\n",
      "Dimensional\n",
      "3\n"
     ]
    }
   ],
   "source": [
    "list2 = [[[1, 2, 3, 4],[3, 4, 5, 6], [5, 6, 7, 8]]]\n",
    "arr2 = np.array(list2, dtype='int8')\n",
    "arr2\n",
    "# shape\n",
    "print(\"Shape\")\n",
    "arr_shape=arr2.shape\n",
    "print(arr_shape,\"\\n\")\n",
    "# dtype\n",
    "print(\"Dtype\")\n",
    "arr_type=arr2.dtype\n",
    "print(arr_type,\"\\n\")\n",
    "# size\n",
    "print(\"Size\")\n",
    "arr_size=arr2.size\n",
    "print(arr_size,\"\\n\")\n",
    "print(\"Dimensional\")\n",
    "arr_dim=arr2.ndim\n",
    "print(arr_dim)\n"
   ]
  },
  {
   "cell_type": "markdown",
   "metadata": {},
   "source": [
    "How to extract specific items from an array\n",
    "numpy arrays can optionally accept as many parameters in the square brackets as there is number of dimensions.\n",
    "list doesn't have this property it will throw error"
   ]
  },
  {
   "cell_type": "code",
   "execution_count": 23,
   "metadata": {},
   "outputs": [
    {
     "name": "stdout",
     "output_type": "stream",
     "text": [
      "Extract 1st 2 rows and cols\n",
      "[[1 2]\n",
      " [5 6]]\n"
     ]
    },
    {
     "ename": "TypeError",
     "evalue": "list indices must be integers or slices, not tuple",
     "output_type": "error",
     "traceback": [
      "\u001b[0;31m---------------------------------------------------------------------------\u001b[0m",
      "\u001b[0;31mTypeError\u001b[0m                                 Traceback (most recent call last)",
      "\u001b[0;32m<ipython-input-23-d144152a58ed>\u001b[0m in \u001b[0;36m<module>\u001b[0;34m()\u001b[0m\n\u001b[1;32m      5\u001b[0m \u001b[0mnew_arr\u001b[0m\u001b[0;34m=\u001b[0m\u001b[0marr2\u001b[0m\u001b[0;34m[\u001b[0m\u001b[0;34m:\u001b[0m\u001b[0;36m2\u001b[0m\u001b[0;34m,\u001b[0m\u001b[0;34m:\u001b[0m\u001b[0;36m2\u001b[0m\u001b[0;34m]\u001b[0m\u001b[0;34m\u001b[0m\u001b[0;34m\u001b[0m\u001b[0m\n\u001b[1;32m      6\u001b[0m \u001b[0mprint\u001b[0m\u001b[0;34m(\u001b[0m\u001b[0mnew_arr\u001b[0m\u001b[0;34m)\u001b[0m\u001b[0;34m\u001b[0m\u001b[0;34m\u001b[0m\u001b[0m\n\u001b[0;32m----> 7\u001b[0;31m \u001b[0mprint\u001b[0m\u001b[0;34m(\u001b[0m\u001b[0mlist2\u001b[0m\u001b[0;34m[\u001b[0m\u001b[0;34m:\u001b[0m\u001b[0;36m2\u001b[0m\u001b[0;34m,\u001b[0m \u001b[0;34m:\u001b[0m\u001b[0;36m2\u001b[0m\u001b[0;34m]\u001b[0m\u001b[0;34m)\u001b[0m\u001b[0;34m\u001b[0m\u001b[0;34m\u001b[0m\u001b[0m\n\u001b[0m",
      "\u001b[0;31mTypeError\u001b[0m: list indices must be integers or slices, not tuple"
     ]
    }
   ],
   "source": [
    "list2 = [[1, 2, 3, 4],[5, 6, 7, 8], [9, 10, 11, 12]]\n",
    "arr2 = np.array(list2, dtype='int')\n",
    "arr2\n",
    "print(\"Extract 1st 2 rows and cols\" )\n",
    "new_arr=arr2[:2,:2]\n",
    "print(new_arr)\n",
    "print(list2[:2, :2])"
   ]
  },
  {
   "cell_type": "code",
   "execution_count": 8,
   "metadata": {},
   "outputs": [
    {
     "name": "stdout",
     "output_type": "stream",
     "text": [
      "[[ 1  2  3  4]\n",
      " [ 5  6  7  8]\n",
      " [ 9 10 11 12]]\n",
      "Extract 1st 2 rows and cols\n",
      "[[ 1  3]\n",
      " [ 9 11]]\n"
     ]
    }
   ],
   "source": [
    "list2 = [[1, 2, 3, 4],[5, 6, 7, 8], [9, 10, 11, 12]]\n",
    "arr2 = np.array(list2, dtype='int')\n",
    "print(arr2)\n",
    "print(\"Extract 1st 2 rows and cols\" )\n",
    "new_arr=arr2[:4:2,:4:2]#[start:stop:step]\n",
    "print(new_arr)"
   ]
  },
  {
   "cell_type": "markdown",
   "metadata": {},
   "source": [
    "numpy arrays support boolean indexing.\n",
    "A boolean index array is of the same shape as the array-to-be-filtered and it contains only True and False values. The values corresponding to True positions are retained in the output.\n"
   ]
  },
  {
   "cell_type": "code",
   "execution_count": 27,
   "metadata": {},
   "outputs": [
    {
     "name": "stdout",
     "output_type": "stream",
     "text": [
      "Original Array\n",
      "[[ 1  2  3  4]\n",
      " [ 5  6  7  8]\n",
      " [ 9 10 11 12]] \n",
      "\n",
      "Boolean Array\n",
      "[[False  True False  True]\n",
      " [False  True False  True]\n",
      " [False  True False  True]] \n",
      "\n",
      "Array Values with Condition\n",
      "[ 2  4  6  8 10 12]\n"
     ]
    }
   ],
   "source": [
    "list2 = [[1, 2, 3, 4],[5, 6, 7, 8], [9, 10, 11, 12]]\n",
    "arr2 = np.array(list2, dtype='int')\n",
    "new_arr=arr2 %2==0\n",
    "print(\"Original Array\")\n",
    "print(arr2,\"\\n\")\n",
    "print(\"Boolean Array\")\n",
    "print(new_arr,\"\\n\")\n",
    "new_arr_val=arr2[new_arr]\n",
    "print(\"Array Values with Condition\")\n",
    "print(new_arr_val)"
   ]
  },
  {
   "cell_type": "markdown",
   "metadata": {},
   "source": [
    "# Need Clarification\n",
    "How to reverse the rows and the whole array\n",
    "you need to do for all the axes (dimensions) if you want a complete reversal.\n"
   ]
  },
  {
   "cell_type": "code",
   "execution_count": 32,
   "metadata": {},
   "outputs": [
    {
     "name": "stdout",
     "output_type": "stream",
     "text": [
      "Original Array\n",
      "[[ 1  2  3  4]\n",
      " [ 5  6  7  8]\n",
      " [ 9 10 11 12]] \n",
      "\n",
      "Reverse only the row positions\n",
      "[[ 9 10 11 12]\n",
      " [ 5  6  7  8]\n",
      " [ 1  2  3  4]] \n",
      "\n",
      "Reverse the row and column positions\n",
      "[[12 11 10  9]\n",
      " [ 8  7  6  5]\n",
      " [ 4  3  2  1]] \n",
      "\n"
     ]
    }
   ],
   "source": [
    "list2 = [[1, 2, 3, 4],[5, 6, 7, 8], [9, 10, 11, 12]]\n",
    "arr2 = np.array(list2, dtype='int')\n",
    "print(\"Original Array\")\n",
    "print(arr2,\"\\n\")\n",
    "#Reverse only the row positions\n",
    "print(\"Reverse only the row positions\")\n",
    "rev_arr=arr2[::-1,]\n",
    "print(rev_arr,\"\\n\")\n",
    "\n",
    "print(\"Reverse the row and column positions\")\n",
    "sec_rev_arr=arr2[::-1,::-1]\n",
    "print(sec_rev_arr,\"\\n\")"
   ]
  },
  {
   "cell_type": "markdown",
   "metadata": {},
   "source": [
    "How to represent missing values and infinite\n",
    "np.nan : Missing Vlaue (not a number)\n",
    "np.inf : infinite\n",
    "Replace nan and inf with -1. Don't use arr2 == np.nan\n",
    "np.isnan(array) | np.isinf(array)"
   ]
  },
  {
   "cell_type": "code",
   "execution_count": 35,
   "metadata": {},
   "outputs": [
    {
     "name": "stdout",
     "output_type": "stream",
     "text": [
      "Original Array\n",
      "[[ 1.  2.  3.  4.]\n",
      " [ 5.  6.  7.  8.]\n",
      " [ 9. 10. 11. 12.]] \n",
      "\n",
      "missing values and infinite\n",
      "[[ 1.  2.  3.  4.]\n",
      " [ 5. nan inf  8.]\n",
      " [ 9. 10. 11. 12.]]\n",
      "Replace nan and inf with -1\n",
      "[[ 1.  2.  3.  4.]\n",
      " [ 5. -1. -1.  8.]\n",
      " [ 9. 10. 11. 12.]]\n"
     ]
    }
   ],
   "source": [
    "list2 = [[1, 2, 3, 4],[5, 6, 7, 8], [9, 10, 11, 12]]\n",
    "arr2 = np.array(list2, dtype='float')\n",
    "print(\"Original Array\")\n",
    "print(arr2,\"\\n\")\n",
    "arr2[1,1]=np.nan\n",
    "arr2[1,2]=np.inf\n",
    "print(\"missing values and infinite\")\n",
    "print(arr2)\n",
    "#Replace nan and inf with -1. Don't use arr2 == np.nan\n",
    "missing_bool=np.isnan(arr2)|np.isinf(arr2)\n",
    "arr2[missing_bool]=-1\n",
    "print(\"Replace nan and inf with -1\")\n",
    "print(arr2)"
   ]
  },
  {
   "cell_type": "markdown",
   "metadata": {},
   "source": [
    "How to compute mean, min, max on the ndarray\n",
    "compute the minimum values row wise or column wise, use the np.amin version .\n",
    "Cumulative Sum : Adding Previous sum to the next num"
   ]
  },
  {
   "cell_type": "code",
   "execution_count": 43,
   "metadata": {},
   "outputs": [
    {
     "name": "stdout",
     "output_type": "stream",
     "text": [
      "Original Array\n",
      "[[ 1.  2.  3.  4.]\n",
      " [ 5.  6.  7.  8.]\n",
      " [ 9. 10. 11. 12.]] \n",
      "\n",
      "Mean value\n",
      "6.5 \n",
      "\n",
      "Min value\n",
      "1.0 \n",
      "\n",
      "Max value\n",
      "12.0 \n",
      "\n",
      "Row wise  min\n",
      "[1. 5. 9.] \n",
      "\n",
      "Col wise  min\n",
      "[1. 2. 3. 4.] \n",
      "\n",
      "Cumulative Sum\n",
      "[ 1.  3.  6. 10. 15. 21. 28. 36. 45. 55. 66. 78.]\n"
     ]
    }
   ],
   "source": [
    "list2 = [[1, 2, 3, 4],[5, 6, 7, 8], [9, 10, 11, 12]]\n",
    "arr2 = np.array(list2, dtype='float')\n",
    "print(\"Original Array\")\n",
    "print(arr2,\"\\n\")\n",
    "print(\"Mean value\")\n",
    "print(arr2.mean(),\"\\n\")\n",
    "print(\"Min value\")\n",
    "print(arr2.min(),\"\\n\")\n",
    "print(\"Max value\")\n",
    "print(arr2.max(),\"\\n\")\n",
    "print(\"Row wise  min\")\n",
    "row_min=np.amin(arr2,axis=1)\n",
    "print(row_min,\"\\n\")\n",
    "print(\"Col wise  min\")\n",
    "col_min=np.amin(arr2,axis=0)\n",
    "print(col_min,\"\\n\")\n",
    "print(\"Cumulative Sum\")\n",
    "cum_sum=np.cumsum(arr2)\n",
    "print(cum_sum)"
   ]
  },
  {
   "cell_type": "markdown",
   "metadata": {},
   "source": [
    "How to create a new array from an existing array\n",
    "If you just assign a portion of an array to another array, the new array you just created actually refers to the parent array in memory.\n",
    "\n",
    "That means, if you make any changes to the new array, it will reflect in the parent array as well.\n",
    "\n",
    "So to avoid disturbing the parent array, you need to make a copy of it "
   ]
  },
  {
   "cell_type": "code",
   "execution_count": 47,
   "metadata": {},
   "outputs": [
    {
     "name": "stdout",
     "output_type": "stream",
     "text": [
      "Original Array\n",
      "[[ 1.  2.  3.  4.]\n",
      " [ 5.  6.  7.  8.]\n",
      " [ 9. 10. 11. 12.]] \n",
      "\n",
      "New Array\n",
      "[[1. 2.]\n",
      " [5. 6.]] \n",
      "\n",
      "Updated Array\n",
      "[[100.   2.]\n",
      " [  5.   6.]]\n",
      "Original After Updated\n",
      "[[100.   2.   3.   4.]\n",
      " [  5.   6.   7.   8.]\n",
      " [  9.  10.  11.  12.]]\n"
     ]
    }
   ],
   "source": [
    "list2 = [[1, 2, 3, 4],[5, 6, 7, 8], [9, 10, 11, 12]]\n",
    "arr2 = np.array(list2, dtype='float')\n",
    "print(\"Original Array\")\n",
    "print(arr2,\"\\n\")\n",
    "arr2a=arr2[:2,:2]\n",
    "print(\"New Array\")\n",
    "print(arr2a,\"\\n\")\n",
    "arr2a[:1,:1]=100\n",
    "print(\"Updated Array\")\n",
    "print(arr2a)\n",
    "print(\"Original After Updated\")\n",
    "print(arr2)"
   ]
  },
  {
   "cell_type": "markdown",
   "metadata": {},
   "source": [
    "Copy portion of arr2 to arr2b"
   ]
  },
  {
   "cell_type": "code",
   "execution_count": 53,
   "metadata": {},
   "outputs": [
    {
     "name": "stdout",
     "output_type": "stream",
     "text": [
      "Original Array\n",
      "[[ 1.  2.  3.  4.]\n",
      " [ 5.  6.  7.  8.]\n",
      " [ 9. 10. 11. 12.]] \n",
      "\n",
      "Copied Array\n",
      "[[1. 2.]\n",
      " [5. 6.]] \n",
      "\n",
      "Updated Array\n",
      "[[101.   2.]\n",
      " [  5.   6.]] \n",
      "\n",
      "Original After Updated\n",
      "[[ 1.  2.  3.  4.]\n",
      " [ 5.  6.  7.  8.]\n",
      " [ 9. 10. 11. 12.]]\n"
     ]
    }
   ],
   "source": [
    "list2 = [[1, 2, 3, 4],[5, 6, 7, 8], [9, 10, 11, 12]]\n",
    "arr2 = np.array(list2, dtype='float')\n",
    "print(\"Original Array\")\n",
    "print(arr2,\"\\n\")\n",
    "\n",
    "print(\"Copied Array\")\n",
    "arr2b=arr2[:2,:2].copy()\n",
    "print(arr2b,\"\\n\")\n",
    "arr2b[:1,:1]=101\n",
    "print(\"Updated Array\")\n",
    "print(arr2b,\"\\n\")\n",
    "print(\"Original After Updated\")\n",
    "print(arr2)"
   ]
  },
  {
   "cell_type": "markdown",
   "metadata": {},
   "source": [
    "Reshaping and Flattening Multidimensional arrays\n",
    "Reshaping is changing the arrangement of items so that shape of the array changes while maintaining the same number of dimensions.\n",
    "Flattening, however, will convert a multi-dimensional array to a flat 1d array. And not any other shape.\n"
   ]
  },
  {
   "cell_type": "code",
   "execution_count": 9,
   "metadata": {},
   "outputs": [
    {
     "name": "stdout",
     "output_type": "stream",
     "text": [
      "Original Array\n",
      "[[ 1.  2.  3.  4.]\n",
      " [ 5.  6.  7.  8.]\n",
      " [ 9. 10. 11. 12.]] \n",
      "\n",
      "One Shape Array\n",
      "[[ 1.  2.  3.]\n",
      " [ 4.  5.  6.]\n",
      " [ 7.  8.  9.]\n",
      " [10. 11. 12.]] \n",
      "\n",
      "Two Shape Array\n",
      "[[ 1.  2.]\n",
      " [ 3.  4.]\n",
      " [ 5.  6.]\n",
      " [ 7.  8.]\n",
      " [ 9. 10.]\n",
      " [11. 12.]] \n",
      "\n"
     ]
    }
   ],
   "source": [
    "list2 = [[1, 2, 3, 4],[5, 6, 7, 8], [9, 10, 11, 12]]\n",
    "arr2 = np.array(list2, dtype='float')\n",
    "print(\"Original Array\")\n",
    "print(arr2,\"\\n\")\n",
    "rs_one=arr2.reshape(4, 3)\n",
    "print(\"One Shape Array\")\n",
    "print(rs_one,\"\\n\")\n",
    "rs_two=arr2.reshape(6, 2)\n",
    "print(\"Two Shape Array\")\n",
    "print(rs_two,\"\\n\")"
   ]
  },
  {
   "cell_type": "markdown",
   "metadata": {},
   "source": [
    "2 popular ways to implement flattening : difference between flatten() and ravel()\n",
    "flatten() : Flatten it to a 1d array.Changing the flattened array does not change parent\n",
    "ravel() : the new array created using ravel is actually a reference to the parent array. So, any changes to the new array will affect the parent as well. But is memory efficient since it does not create a copy.\n"
   ]
  },
  {
   "cell_type": "code",
   "execution_count": 15,
   "metadata": {},
   "outputs": [
    {
     "name": "stdout",
     "output_type": "stream",
     "text": [
      "Original Array\n",
      "[[ 1.  2.  3.  4.]\n",
      " [ 5.  6.  7.  8.]\n",
      " [ 9. 10. 11. 12.]] \n",
      "\n",
      "Flatten array after changes value\n",
      "[ 1. 20.  3.  4.  5.  6.  7.  8.  9. 10. 11. 12.] \n",
      "\n",
      "Original array after changes value\n",
      "[[ 1.  2.  3.  4.]\n",
      " [ 5.  6.  7.  8.]\n",
      " [ 9. 10. 11. 12.]] \n",
      "\n",
      "Ravel array after changes value\n",
      "[ 1.  2.  3. 50.  5.  6.  7.  8.  9. 10. 11. 12.] \n",
      "\n",
      "Original array after changes value\n",
      "[[ 1.  2.  3. 50.]\n",
      " [ 5.  6.  7.  8.]\n",
      " [ 9. 10. 11. 12.]] \n",
      "\n"
     ]
    }
   ],
   "source": [
    "list2 = [[1, 2, 3, 4],[5, 6, 7, 8], [9, 10, 11, 12]]\n",
    "arr2 = np.array(list2, dtype='float')\n",
    "print(\"Original Array\")\n",
    "print(arr2,\"\\n\")\n",
    "new_arr=arr2.flatten();\n",
    "new_arr[1]=20\n",
    "print(\"Flatten array after changes value\")\n",
    "print(new_arr,\"\\n\")\n",
    "print(\"Original array after changes value\")\n",
    "print(arr2,\"\\n\")\n",
    "#RAVEL\n",
    "rav_arr=arr2.ravel()\n",
    "rav_arr[3]=50\n",
    "print(\"Ravel array after changes value\")\n",
    "print(rav_arr,\"\\n\")\n",
    "print(\"Original array after changes value\")\n",
    "print(arr2,\"\\n\")"
   ]
  },
  {
   "cell_type": "markdown",
   "metadata": {},
   "source": [
    "How to create sequences, repetitions and random numbers using numpy?\n",
    "np.arange function comes handy to create customised number sequences as ndarray.\n"
   ]
  },
  {
   "cell_type": "code",
   "execution_count": 20,
   "metadata": {},
   "outputs": [
    {
     "name": "stdout",
     "output_type": "stream",
     "text": [
      " Lower limit is 0 be default \n",
      "\n",
      "Arange to index \n",
      "\n",
      "[0 1 2 3 4] \n",
      "\n",
      "Arange from to index \n",
      "\n",
      "[ 5  6  7  8  9 10 11 12 13 14 15 16 17 18 19 20 21 22 23 24] \n",
      "\n",
      "Arange decreasing order \n",
      "\n",
      "[25 24 23 22 21 20 19 18 17 16 15 14 13 12 11 10  9  8  7  6] \n",
      "\n"
     ]
    }
   ],
   "source": [
    "print(\" Lower limit is 0 be default \\n\")\n",
    "arr1=np.arange(5)\n",
    "print(\"Arange to index \\n\")\n",
    "print(arr1,\"\\n\")\n",
    "\n",
    "arr2=np.arange(5,25)\n",
    "print(\"Arange from to index \\n\")\n",
    "print(arr2,\"\\n\")\n",
    "\n",
    "arr3=np.arange(25,5,-1)\n",
    "print(\"Arange decreasing order \\n\")\n",
    "print(arr3,\"\\n\")\n"
   ]
  },
  {
   "cell_type": "markdown",
   "metadata": {},
   "source": [
    "you want to create an array of exactly 10 numbers between 1 and 50, Can you compute what would be the step value?\n",
    "use the np.linspace . It divides the values exactly to get the 10 outputs."
   ]
  },
  {
   "cell_type": "code",
   "execution_count": 22,
   "metadata": {},
   "outputs": [
    {
     "name": "stdout",
     "output_type": "stream",
     "text": [
      "[ 1  6 11 17 22 28 33 39 44 50]\n"
     ]
    }
   ],
   "source": [
    "arr1=np.linspace(1,50,10,dtype=\"int\")\n",
    "print(arr1)"
   ]
  },
  {
   "cell_type": "markdown",
   "metadata": {},
   "source": [
    "np.logspace which rises in a logarithmic scale."
   ]
  },
  {
   "cell_type": "code",
   "execution_count": 28,
   "metadata": {},
   "outputs": [
    {
     "name": "stdout",
     "output_type": "stream",
     "text": [
      "Limit the number of digits after the decimal to 2\n",
      "None \n",
      "\n",
      "Start at 10^1 and end at 10^50 \n",
      "\n",
      "[1.00e+01 2.78e+06 7.74e+11 2.15e+17 5.99e+22 1.67e+28 4.64e+33 1.29e+39\n",
      " 3.59e+44 1.00e+50]\n"
     ]
    }
   ],
   "source": [
    "print(\"Limit the number of digits after the decimal to 2\")\n",
    "prnt_op=np.set_printoptions(precision=2) \n",
    "print(prnt_op,\"\\n\")\n",
    "print(\"Start at 10^1 and end at 10^50\",\"\\n\")\n",
    "log_n=np.logspace(1,50,10,10)\n",
    "print(log_n)"
   ]
  },
  {
   "cell_type": "markdown",
   "metadata": {},
   "source": [
    "The np.zeros and np.ones functions lets you create arrays of desired shape where all the items are either 0’s or 1’s."
   ]
  },
  {
   "cell_type": "code",
   "execution_count": 33,
   "metadata": {},
   "outputs": [
    {
     "name": "stdout",
     "output_type": "stream",
     "text": [
      "Zeroes\n",
      "[[0 0 0]\n",
      " [0 0 0]\n",
      " [0 0 0]\n",
      " [0 0 0]\n",
      " [0 0 0]] \n",
      "\n",
      "Ones\n",
      "[[1 1 1 1 1 1]\n",
      " [1 1 1 1 1 1]\n",
      " [1 1 1 1 1 1]] \n",
      "\n"
     ]
    }
   ],
   "source": [
    "zeros_arr=np.zeros([5,3],dtype=\"int\")\n",
    "print(\"Zeroes\")\n",
    "print(zeros_arr,\"\\n\")\n",
    "print(\"Ones\")\n",
    "ones_arr=np.ones([3,6],dtype=\"int\")\n",
    "print(ones_arr,\"\\n\")"
   ]
  },
  {
   "cell_type": "markdown",
   "metadata": {},
   "source": [
    "How to create repeating sequences"
   ]
  },
  {
   "cell_type": "code",
   "execution_count": 37,
   "metadata": {},
   "outputs": [
    {
     "name": "stdout",
     "output_type": "stream",
     "text": [
      "Tile Repeat whole of 'list1' n times\n",
      "[1 2 3 4 1 2 3 4 1 2 3 4] \n",
      "\n",
      " Repeat each element of 'list1' n times\n",
      "[1 1 1 2 2 2 3 3 3 4 4 4]\n"
     ]
    }
   ],
   "source": [
    "list1=[1,2,3,4]\n",
    "print(\"Tile Repeat whole of 'list1' n times\")\n",
    "tile_arr=np.tile(list1,3)\n",
    "print(tile_arr,\"\\n\")\n",
    "print(\" Repeat each element of 'list1' n times\")\n",
    "rep_arr=np.repeat(list1,3)\n",
    "print(rep_arr)"
   ]
  },
  {
   "cell_type": "markdown",
   "metadata": {},
   "source": [
    "# Need clarification"
   ]
  },
  {
   "cell_type": "markdown",
   "metadata": {},
   "source": [
    "How to generate random numbers?\n",
    "The random module provides nice functions to generate random numbers (and also statistical distributions) of any given shape."
   ]
  },
  {
   "cell_type": "code",
   "execution_count": 50,
   "metadata": {},
   "outputs": [
    {
     "name": "stdout",
     "output_type": "stream",
     "text": [
      "Random numbers between [0,1) of shape 2,2 \n",
      "\n",
      "[[0.92 0.43]\n",
      " [0.38 0.42]] \n",
      "\n",
      "Normal distribution with mean=0 and variance=1 of shape 2,2 \n",
      "\n",
      "[[-1.35 -0.61]\n",
      " [-0.99 -0.38]]\n",
      "\n",
      " Random integers between [0, 10) of shape 2,2 \n",
      "\n",
      "[[4 3]\n",
      " [4 0]] \n",
      "\n",
      "One random number between [0,1) \n",
      "\n",
      "0.5660550902530471 \n",
      "\n",
      "Pick n items from a given list, with equal probability \n",
      "\n",
      "['a' 'o' 'o' 'u' 'o' 'a' 'i' 'o' 'e' 'o' 'u' 'e' 'a' 'i' 'e'] \n",
      "\n",
      "Pick n items from a given list with a predefined probability 'p' \n",
      "\n",
      "['a' 'a' 'o' 'e' 'i' 'o' 'o' 'a' 'o' 'a'] \n",
      "\n"
     ]
    }
   ],
   "source": [
    "print(\"Random numbers between [0,1) of shape 2,2\",\"\\n\")\n",
    "arr_one=np.random.rand(2,2)\n",
    "print(arr_one,\"\\n\")\n",
    "print(\"Normal distribution with mean=0 and variance=1 of shape 2,2\",\"\\n\")\n",
    "arr_two=np.random.randn(2,2)\n",
    "print(arr_two)\n",
    "print(\"\\n Random integers between [0, 10) of shape 2,2 \\n\")\n",
    "arr_three=np.random.randint(0, 5, size=[2,2])\n",
    "print(arr_three,\"\\n\")\n",
    "print(\"One random number between [0,1) \\n\")\n",
    "arr_four=np.random.random()\n",
    "print(arr_four,\"\\n\")\n",
    "print(\"Pick n items from a given list, with equal probability \\n\")\n",
    "arr_five=np.random.choice(['a', 'e', 'i', 'o', 'u'], size=15)\n",
    "print(arr_five,\"\\n\")\n",
    "print(\"Pick n items from a given list with a predefined probability 'p' \\n\")\n",
    "arr_six=np.random.choice(['a', 'e', 'i', 'o', 'u'], size=10, p=[0.3, .1, 0.1, 0.4, 0.1])\n",
    "print(arr_six,\"\\n\")"
   ]
  },
  {
   "cell_type": "markdown",
   "metadata": {},
   "source": [
    "everytime you run any of the above functions, you get a different set of random numbers.\n",
    "you want to repeat the same set of random numbers every time, you need to set the seed or the random state. \n",
    "Once np.random.RandomState is created, all the functions of the np.random module becomes available to the created randomstate object."
   ]
  },
  {
   "cell_type": "code",
   "execution_count": 56,
   "metadata": {},
   "outputs": [
    {
     "name": "stdout",
     "output_type": "stream",
     "text": [
      "[[0.54 0.28]\n",
      " [0.42 0.84]]\n",
      "\n",
      " # Set the random seed \n",
      "\n",
      "[[0.54 0.28]\n",
      " [0.42 0.84]]\n"
     ]
    }
   ],
   "source": [
    "rn = np.random.RandomState(100)\n",
    "rand_num=rn.rand(2,2)\n",
    "print(rand_num)\n",
    "print(\"\\n # Set the random seed \\n\")\n",
    "np.random.seed(100)\n",
    "rand_seed=np.random.rand(2,2)\n",
    "print(rand_seed)"
   ]
  },
  {
   "cell_type": "markdown",
   "metadata": {},
   "source": [
    "How to get the unique items and the counts?\n",
    "The np.unique method can be used to get the unique items.\n",
    "If you want the repetition counts of each item, set the return_counts parameter to True.\n",
    "it create ascending order of unique items and gives the count"
   ]
  },
  {
   "cell_type": "code",
   "execution_count": 2,
   "metadata": {},
   "outputs": [
    {
     "name": "stdout",
     "output_type": "stream",
     "text": [
      "Create random integers of size 10 between [0,10) \n",
      "\n",
      "[8 8 3 7 7 0 4 2 5 2] \n",
      "\n",
      "Get the unique items and their counts \n",
      "\n",
      "Unique items : \n",
      "  [0 2 3 4 5 7 8] \n",
      "\n",
      "Counts       : \n",
      " [1 2 1 1 1 2 2]\n",
      "\n",
      " Only Unique Items\n",
      "[0 2 3 4 5 7 8] \n",
      "\n"
     ]
    }
   ],
   "source": [
    "print(\"Create random integers of size 10 between [0,10) \\n\")\n",
    "np.random.seed(100)\n",
    "arr_rand= np.random.randint(0, 10, size=10)\n",
    "print(arr_rand,\"\\n\")\n",
    "print(\"Get the unique items and their counts \\n\")\n",
    "uniqs, counts = np.unique(arr_rand, return_counts=True)\n",
    "print(\"Unique items : \\n \", uniqs,\"\\n\")\n",
    "print(\"Counts       : \\n\", counts)\n",
    "print(\"\\n Only Unique Items\")\n",
    "unq=np.unique(arr_rand)\n",
    "print(unq,\"\\n\")"
   ]
  },
  {
   "cell_type": "code",
   "execution_count": null,
   "metadata": {},
   "outputs": [],
   "source": []
  }
 ],
 "metadata": {
  "kernelspec": {
   "display_name": "Python 3",
   "language": "python",
   "name": "python3"
  },
  "language_info": {
   "codemirror_mode": {
    "name": "ipython",
    "version": 3
   },
   "file_extension": ".py",
   "mimetype": "text/x-python",
   "name": "python",
   "nbconvert_exporter": "python",
   "pygments_lexer": "ipython3",
   "version": "3.6.8"
  }
 },
 "nbformat": 4,
 "nbformat_minor": 1
}
