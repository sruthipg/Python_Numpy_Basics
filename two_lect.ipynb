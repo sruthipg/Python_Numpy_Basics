{
 "cells": [
  {
   "cell_type": "markdown",
   "metadata": {
    "collapsed": true
   },
   "source": [
    "Numpy Tutorial Part 2 – Vital Functions for Data Analysis"
   ]
  },
  {
   "cell_type": "markdown",
   "metadata": {},
   "source": [
    "Agenda\n",
    "0. Introduction\n",
    "1. How to get index locations that satisfy a given condition using np.where?\n",
    "2. How to import and export data as a csv file?\n",
    "2.1 How to handle datasets that has both numbers and text columns?\n",
    "3. How to save and load numpy objects?\n",
    "4. How to concatenate two numpy arrays column-wise and row-wise?\n",
    "5. How to sort a numpy array based on one or more columns?\n",
    "5.1 How to sort a numpy array based on 1 column using argsort?\n",
    "5.2 How to sort a numpy array based on 2 or more columns?\n",
    "6. Working with dates\n",
    "6.1 How to create a sequence of dates?\n",
    "6.2 How to convert numpy.datetime64 to datetime.datetime object?\n",
    "7. Advanced numpy functions\n",
    "7.1 vectorize – Make a scalar function work on vectors\n",
    "7.2 apply_along_axis – Apply a function column wise or row wise\n",
    "7.3 searchsorted – Find the location to insert so the array will remain sorted\n",
    "7.4 How to add a new axis to a numpy array?\n",
    "7.5 More Useful Functions\n",
    "8. What is missing in numpy?"
   ]
  },
  {
   "cell_type": "markdown",
   "metadata": {},
   "source": [
    "How to get index locations that satisfy a given condition using np.where?\n",
    "np.where locates the positions in the array where a given condition holds true."
   ]
  },
  {
   "cell_type": "code",
   "execution_count": 1,
   "metadata": {},
   "outputs": [],
   "source": [
    "import numpy as np"
   ]
  },
  {
   "cell_type": "code",
   "execution_count": 10,
   "metadata": {},
   "outputs": [
    {
     "name": "stdout",
     "output_type": "stream",
     "text": [
      "Array\n",
      "[[1 2 6 3]\n",
      " [9 8 2 0]\n",
      " [2 5 8 3]] \n",
      "\n",
      "Reshaped Array\n",
      "[[1 2 6]\n",
      " [3 9 8]\n",
      " [2 0 2]\n",
      " [5 8 3]] \n",
      "\n",
      "Shape\n",
      "(3, 4) \n",
      "\n",
      "Dimensional\n",
      "2 \n",
      "\n",
      "Row Positions where value > 5\n",
      "[0 1 1 2] \n",
      "\n",
      "Col Positions where value > 5\n",
      "[2 0 1 2] \n",
      "\n",
      "value > 5 from Row and col\n",
      "[6 9 8 8] \n",
      "\n"
     ]
    }
   ],
   "source": [
    "list1=([1,2,6,3],[9,8,2,0],[2,5,8,3])\n",
    "arr=np.array(list1)\n",
    "print(\"Array\")\n",
    "print(arr,\"\\n\")\n",
    "rs_arr=arr.reshape(4,3)\n",
    "print(\"Reshaped Array\")\n",
    "print(rs_arr,\"\\n\")\n",
    "s_shape=arr.shape\n",
    "print(\"Shape\")\n",
    "print(s_shape,\"\\n\")\n",
    "s_dim=arr.ndim\n",
    "print(\"Dimensional\")\n",
    "print(s_dim,\"\\n\")\n",
    "row_arr,col_arr=np.where(arr>5)\n",
    "print(\"Row Positions where value > 5\")\n",
    "print(row_arr,\"\\n\")\n",
    "print(\"Col Positions where value > 5\")\n",
    "print(col_arr,\"\\n\")\n",
    "val_get5=arr[row_arr,col_arr]\n",
    "print(\"value > 5 from Row and col\")\n",
    "print(val_get5,\"\\n\")"
   ]
  },
  {
   "cell_type": "markdown",
   "metadata": {},
   "source": [
    "Single dimensional array\n",
    "Once you have the positions, you can extract them using the array’s take method."
   ]
  },
  {
   "cell_type": "code",
   "execution_count": 13,
   "metadata": {},
   "outputs": [
    {
     "name": "stdout",
     "output_type": "stream",
     "text": [
      "Array:  [1 2 6 3 9 8 2 0 2 5 8 3]\n",
      "Positions where value > 5:  (array([ 2,  4,  5, 10]),)\n",
      "Values using take\n",
      "[[6 9 8 8]] \n",
      "\n"
     ]
    }
   ],
   "source": [
    "arr_rand = np.array([1,2,6,3,9,8,2,0,2,5,8,3])\n",
    "print(\"Array: \", arr_rand)\n",
    "index_gt5 = np.where(arr_rand > 5)\n",
    "print(\"Positions where value > 5: \", index_gt5)\n",
    "val_arr=arr_rand.take(index_gt5)\n",
    "print(\"Values using take\")\n",
    "print(val_arr,\"\\n\")"
   ]
  },
  {
   "cell_type": "markdown",
   "metadata": {},
   "source": [
    "np.where also accepts 2 more optional arguments x and y. Whenever condition is true, ‘x’ is yielded else ‘y’.\n",
    "find the location of the maximum and minimum valjues as well."
   ]
  },
  {
   "cell_type": "code",
   "execution_count": 5,
   "metadata": {},
   "outputs": [
    {
     "name": "stdout",
     "output_type": "stream",
     "text": [
      "Array:  [1 2 6 3 9 8 2 0 2 5 8 3] \n",
      "\n",
      "New Array:  ['le5' 'le5' 'gt5' 'le5' 'gt5' 'gt5' 'le5' 'le5' 'le5' 'le5' 'gt5' 'le5'] \n",
      "\n",
      "Position of max value:  4 \n",
      "\n",
      "Position of Min value 7 \n",
      "\n"
     ]
    }
   ],
   "source": [
    "arr_rand = np.array([1,2,6,3,9,8,2,0,2,5,8,3])\n",
    "print(\"Array: \", arr_rand,\"\\n\")\n",
    "new_arr=np.where(arr_rand > 5, 'gt5', 'le5')\n",
    "print(\"New Array: \", new_arr,\"\\n\")\n",
    "print('Position of max value: ', np.argmax(arr_rand),\"\\n\")  \n",
    "print(\"Position of Min value\",np.argmin(arr_rand),\"\\n\")"
   ]
  },
  {
   "cell_type": "markdown",
   "metadata": {},
   "source": [
    "How to import and export data as a csv file?\n",
    "A standard way to import datasets is to use the np.genfromtxt function. It can import datasets from web URLs, handle missing values, multiple delimiters, handle irregular number of columns etc.\n",
    "\n",
    "    A less versatile version is the np.loadtxt which assumes the dataset has no missing values.\n",
    "    By setting the filling_values argument you can replace the missing values with something else."
   ]
  },
  {
   "cell_type": "code",
   "execution_count": 6,
   "metadata": {},
   "outputs": [],
   "source": [
    "# Turn off scientific notation\n",
    "np.set_printoptions(suppress=True) "
   ]
  },
  {
   "cell_type": "code",
   "execution_count": 11,
   "metadata": {},
   "outputs": [
    {
     "name": "stdout",
     "output_type": "stream",
     "text": [
      "[[  18    8  307  130 3504   12   70    1 -999]\n",
      " [  15    8  350  165 3693 -999   70    1 -999]\n",
      " [  18    8  318  150 3436   11   70    1 -999]]\n"
     ]
    }
   ],
   "source": [
    "path = 'https://raw.githubusercontent.com/selva86/datasets/master/Auto.csv'\n",
    "data=np.genfromtxt(path,delimiter=',',skip_header=1,filling_values='-999',encoding=None,dtype='int')\n",
    "arr_data=data[:3]\n",
    "print(arr_data)"
   ]
  },
  {
   "cell_type": "markdown",
   "metadata": {},
   "source": [
    "the values in last column has the same value ‘-999’\n",
    "That happened because, I had mentioned the. `dtype=’float’`. The last column in the file contained text values and since all the values in a numpy array has to be of the same `dtype`, `np.genfromtxt` didn’t know how to convert it to a float."
   ]
  },
  {
   "cell_type": "markdown",
   "metadata": {},
   "source": [
    "How to handle datasets that has both numbers and text columns?\n",
    "Finally, ‘np.savetxt’ lets you export the array as a csv file.\n"
   ]
  },
  {
   "cell_type": "code",
   "execution_count": 14,
   "metadata": {},
   "outputs": [
    {
     "name": "stdout",
     "output_type": "stream",
     "text": [
      "[[b'18' b'8' b'307' b'130' b'3504' b'12' b'70' b'1'\n",
      "  b'\"chevrolet chevelle malibu\"']\n",
      " [b'15' b'8' b'350' b'165' b'3693' b'11.5' b'70' b'1'\n",
      "  b'\"buick skylark 320\"']\n",
      " [b'18' b'8' b'318' b'150' b'3436' b'11' b'70' b'1'\n",
      "  b'\"plymouth satellite\"']]\n"
     ]
    },
    {
     "ename": "TypeError",
     "evalue": "Mismatch between array dtype ('object') and format specifier ('%.18e %.18e %.18e %.18e %.18e %.18e %.18e %.18e %.18e')",
     "output_type": "error",
     "traceback": [
      "\u001b[0;31m---------------------------------------------------------------------------\u001b[0m",
      "\u001b[0;31mTypeError\u001b[0m                                 Traceback (most recent call last)",
      "\u001b[0;32m/home/user/sruthi/Tutorial/PythonProjects/MyTutorials/venv/lib/python3.6/site-packages/numpy/lib/npyio.py\u001b[0m in \u001b[0;36msavetxt\u001b[0;34m(fname, X, fmt, delimiter, newline, header, footer, comments, encoding)\u001b[0m\n\u001b[1;32m   1433\u001b[0m                 \u001b[0;32mtry\u001b[0m\u001b[0;34m:\u001b[0m\u001b[0;34m\u001b[0m\u001b[0;34m\u001b[0m\u001b[0m\n\u001b[0;32m-> 1434\u001b[0;31m                     \u001b[0mv\u001b[0m \u001b[0;34m=\u001b[0m \u001b[0mformat\u001b[0m \u001b[0;34m%\u001b[0m \u001b[0mtuple\u001b[0m\u001b[0;34m(\u001b[0m\u001b[0mrow\u001b[0m\u001b[0;34m)\u001b[0m \u001b[0;34m+\u001b[0m \u001b[0mnewline\u001b[0m\u001b[0;34m\u001b[0m\u001b[0;34m\u001b[0m\u001b[0m\n\u001b[0m\u001b[1;32m   1435\u001b[0m                 \u001b[0;32mexcept\u001b[0m \u001b[0mTypeError\u001b[0m\u001b[0;34m:\u001b[0m\u001b[0;34m\u001b[0m\u001b[0;34m\u001b[0m\u001b[0m\n",
      "\u001b[0;31mTypeError\u001b[0m: must be real number, not bytes",
      "\nDuring handling of the above exception, another exception occurred:\n",
      "\u001b[0;31mTypeError\u001b[0m                                 Traceback (most recent call last)",
      "\u001b[0;32m<ipython-input-14-8346de9d8cf1>\u001b[0m in \u001b[0;36m<module>\u001b[0;34m()\u001b[0m\n\u001b[1;32m      3\u001b[0m \u001b[0marr_data\u001b[0m\u001b[0;34m=\u001b[0m\u001b[0mdata\u001b[0m\u001b[0;34m[\u001b[0m\u001b[0;34m:\u001b[0m\u001b[0;36m3\u001b[0m\u001b[0;34m]\u001b[0m\u001b[0;34m\u001b[0m\u001b[0;34m\u001b[0m\u001b[0m\n\u001b[1;32m      4\u001b[0m \u001b[0mprint\u001b[0m\u001b[0;34m(\u001b[0m\u001b[0marr_data\u001b[0m\u001b[0;34m)\u001b[0m\u001b[0;34m\u001b[0m\u001b[0;34m\u001b[0m\u001b[0m\n\u001b[0;32m----> 5\u001b[0;31m \u001b[0mnp\u001b[0m\u001b[0;34m.\u001b[0m\u001b[0msavetxt\u001b[0m\u001b[0;34m(\u001b[0m\u001b[0;34m\"output.csv\"\u001b[0m\u001b[0;34m,\u001b[0m \u001b[0marr_data\u001b[0m\u001b[0;34m)\u001b[0m\u001b[0;34m\u001b[0m\u001b[0;34m\u001b[0m\u001b[0m\n\u001b[0m",
      "\u001b[0;32m<__array_function__ internals>\u001b[0m in \u001b[0;36msavetxt\u001b[0;34m(*args, **kwargs)\u001b[0m\n",
      "\u001b[0;32m/home/user/sruthi/Tutorial/PythonProjects/MyTutorials/venv/lib/python3.6/site-packages/numpy/lib/npyio.py\u001b[0m in \u001b[0;36msavetxt\u001b[0;34m(fname, X, fmt, delimiter, newline, header, footer, comments, encoding)\u001b[0m\n\u001b[1;32m   1436\u001b[0m                     raise TypeError(\"Mismatch between array dtype ('%s') and \"\n\u001b[1;32m   1437\u001b[0m                                     \u001b[0;34m\"format specifier ('%s')\"\u001b[0m\u001b[0;34m\u001b[0m\u001b[0;34m\u001b[0m\u001b[0m\n\u001b[0;32m-> 1438\u001b[0;31m                                     % (str(X.dtype), format))\n\u001b[0m\u001b[1;32m   1439\u001b[0m                 \u001b[0mfh\u001b[0m\u001b[0;34m.\u001b[0m\u001b[0mwrite\u001b[0m\u001b[0;34m(\u001b[0m\u001b[0mv\u001b[0m\u001b[0;34m)\u001b[0m\u001b[0;34m\u001b[0m\u001b[0;34m\u001b[0m\u001b[0m\n\u001b[1;32m   1440\u001b[0m \u001b[0;34m\u001b[0m\u001b[0m\n",
      "\u001b[0;31mTypeError\u001b[0m: Mismatch between array dtype ('object') and format specifier ('%.18e %.18e %.18e %.18e %.18e %.18e %.18e %.18e %.18e')"
     ]
    }
   ],
   "source": [
    "path = 'https://raw.githubusercontent.com/selva86/datasets/master/Auto.csv'\n",
    "data=np.genfromtxt(path,delimiter=',',skip_header=1,filling_values='-999',encoding=None,dtype='object')\n",
    "arr_data=data[:3]\n",
    "print(arr_data)\n",
    "np.savetxt('ouput.csv',arr_data)"
   ]
  },
  {
   "cell_type": "markdown",
   "metadata": {},
   "source": [
    "# Doubts :\n",
    "1. Unable to load from system\n",
    "2. save only the particular result after the calculation to csv to system and inside the project"
   ]
  },
  {
   "cell_type": "markdown",
   "metadata": {},
   "source": [
    "# Keep Pending\n",
    "## How to save and load numpy objects?\n",
    "At some point, we will want to save large transformed numpy arrays to disk and load it back to console directly without having the re-run the data transformations code.\n",
    "Numpy provides the .npy and the .npz file types for this purpose.\n"
   ]
  },
  {
   "cell_type": "markdown",
   "metadata": {},
   "source": [
    "How to concatenate two numpy arrays columnwise and row wise\n",
    "There are 3 different ways of concatenating two or more numpy arrays.\n",
    "    Method 1: np.concatenate by changing the axis parameter to 0 and 1\n",
    "    Method 2: np.vstack and np.hstack\n",
    "    Method 3: np.r_ and np.c_"
   ]
  },
  {
   "cell_type": "code",
   "execution_count": null,
   "metadata": {},
   "outputs": [],
   "source": []
  }
 ],
 "metadata": {
  "kernelspec": {
   "display_name": "Python 3",
   "language": "python",
   "name": "python3"
  },
  "language_info": {
   "codemirror_mode": {
    "name": "ipython",
    "version": 3
   },
   "file_extension": ".py",
   "mimetype": "text/x-python",
   "name": "python",
   "nbconvert_exporter": "python",
   "pygments_lexer": "ipython3",
   "version": "3.6.8"
  }
 },
 "nbformat": 4,
 "nbformat_minor": 1
}
